{
 "cells": [
  {
   "cell_type": "markdown",
   "id": "75850728",
   "metadata": {},
   "source": [
    "# 시험장 환경 정보\n",
    "\n",
    "Python: 3.7.4 (tags/v3.7.4:e09359112e, Jul  8 2019, 20:34:20) [MSC v.1916 64 bit (AMD64)]\n",
    "\n",
    "|모듈|버젼|\n",
    "|----|----|\n",
    "|pandas|0.25.1|\n",
    "|numpy|1.18.5|\n",
    "|sklearn|0.21.3|\n",
    "|scipy|1.5.2|\n",
    "|mlxtend|0.15.0.0|\n",
    "|statsmodels|0.11.1|\n",
    "|xgboost|0.8|\n",
    "\n",
    "**강사: 멀티캠퍼스 강선구(sunku0316.kang@multicampus.com, sun9sun9@gmail.com)**"
   ]
  },
  {
   "cell_type": "code",
   "execution_count": 148,
   "id": "04b1901d",
   "metadata": {},
   "outputs": [
    {
     "name": "stdout",
     "output_type": "stream",
     "text": [
      "3.7.4 (tags/v3.7.4:e09359112e, Jul  8 2019, 20:34:20) [MSC v.1916 64 bit (AMD64)]\n",
      "pandas 0.25.1\n",
      "numpy 1.18.5\n",
      "sklearn 0.21.3\n",
      "scipy 1.5.2\n",
      "mlxtend 0.15.0.0\n",
      "statsmodels 0.11.1\n",
      "xgboost 0.80\n"
     ]
    }
   ],
   "source": [
    "# 실행 환경 확인\n",
    "\n",
    "import pandas as pd\n",
    "import numpy as np\n",
    "import sklearn\n",
    "import scipy\n",
    "import statsmodels\n",
    "import mlxtend\n",
    "import sys\n",
    "import xgboost as xgb\n",
    "\n",
    "print(sys.version)\n",
    "for i in [pd, np, sklearn, scipy, mlxtend, statsmodels, xgb]:\n",
    "    print(i.__name__, i.__version__)"
   ]
  },
  {
   "cell_type": "code",
   "execution_count": 149,
   "id": "b2a5207c",
   "metadata": {},
   "outputs": [],
   "source": [
    "# 시각화 모듈 설정\n",
    "# 참고용 차트를 출력하기 위함\n",
    "\n",
    "import matplotlib.pyplot as plt\n",
    "import seaborn as sns\n",
    "\n",
    "import matplotlib as mpl\n",
    "import matplotlib.font_manager as fm\n",
    "plt.rc('font', family='Malgun Gothic')\n",
    "mpl.rcParams['axes.unicode_minus'] = False"
   ]
  },
  {
   "cell_type": "markdown",
   "id": "2719eb2d",
   "metadata": {},
   "source": [
    "# 문제 개요\n",
    "\n",
    "다음은 폴더블 폰의 힌지에 들어가는 스프링 내구력을 테스트한 실험 결과이다. \n",
    "\n",
    "스프링 측정값과 스프링에 가한 부하 정보와 함께, 테스트 통과/실패 (failure) 결과가 기재되어 있다. \n",
    "\n",
    "개발부서는 테스트 비용을 줄이기 위해 failure 여부를 맞추는 모델을 만들고자 한다.\n",
    "\n",
    "변수명은 보안을 위해 measurement_0과 같이 익명화되었다.\n",
    "\n",
    "데이터 구성\n",
    "\n",
    "학습데이터: train_prob.csv, 21,458 rows, 25 columns\n",
    "\n",
    "테스트데이터: test_prob.csv, 5,112 rows, 24 columns, \n",
    "\n",
    "테스트정답셋: test_prob_ans.csv, 5,112 rows, 1 columns\n",
    "\n",
    "\n",
    "컬럼명\t설명\t타입\n",
    "\n",
    "|변수명|설명|타입|\n",
    "|--|--------------|------|\n",
    "|id|실험 고유 번호|정수형|\n",
    "|product_code|스프링 코드|범주형|\n",
    "|loading|스프링에 가한 부하|실수형|\n",
    "|attribute_0|구성 소재1|범주형|\n",
    "|attribute_1|구성 소재2|범주형|\n",
    "|attribute_2|구성 소재3|정수형|\n",
    "|attribute_3|구성 소재4|정수형|\n",
    "|measurement_0 ~ 17|측정값 0~17|실수형|\n",
    "|failure|성공여부|이진형(0, 1)|\n"
   ]
  },
  {
   "cell_type": "markdown",
   "id": "b80d1407",
   "metadata": {},
   "source": [
    "# 전처리(Preprocessing)\n",
    "\n",
    "train_prob.csv를 불러 온다. 이를 basetable이리고 한다."
   ]
  },
  {
   "cell_type": "code",
   "execution_count": 150,
   "id": "15ebc269",
   "metadata": {},
   "outputs": [
    {
     "data": {
      "text/html": [
       "<div>\n",
       "<style scoped>\n",
       "    .dataframe tbody tr th:only-of-type {\n",
       "        vertical-align: middle;\n",
       "    }\n",
       "\n",
       "    .dataframe tbody tr th {\n",
       "        vertical-align: top;\n",
       "    }\n",
       "\n",
       "    .dataframe thead th {\n",
       "        text-align: right;\n",
       "    }\n",
       "</style>\n",
       "<table border=\"1\" class=\"dataframe\">\n",
       "  <thead>\n",
       "    <tr style=\"text-align: right;\">\n",
       "      <th></th>\n",
       "      <th>product_code</th>\n",
       "      <th>loading</th>\n",
       "      <th>attribute_0</th>\n",
       "      <th>attribute_1</th>\n",
       "      <th>attribute_2</th>\n",
       "      <th>attribute_3</th>\n",
       "      <th>measurement_0</th>\n",
       "      <th>measurement_1</th>\n",
       "      <th>measurement_2</th>\n",
       "      <th>measurement_3</th>\n",
       "      <th>...</th>\n",
       "      <th>measurement_9</th>\n",
       "      <th>measurement_10</th>\n",
       "      <th>measurement_11</th>\n",
       "      <th>measurement_12</th>\n",
       "      <th>measurement_13</th>\n",
       "      <th>measurement_14</th>\n",
       "      <th>measurement_15</th>\n",
       "      <th>measurement_16</th>\n",
       "      <th>measurement_17</th>\n",
       "      <th>failure</th>\n",
       "    </tr>\n",
       "    <tr>\n",
       "      <th>id</th>\n",
       "      <th></th>\n",
       "      <th></th>\n",
       "      <th></th>\n",
       "      <th></th>\n",
       "      <th></th>\n",
       "      <th></th>\n",
       "      <th></th>\n",
       "      <th></th>\n",
       "      <th></th>\n",
       "      <th></th>\n",
       "      <th></th>\n",
       "      <th></th>\n",
       "      <th></th>\n",
       "      <th></th>\n",
       "      <th></th>\n",
       "      <th></th>\n",
       "      <th></th>\n",
       "      <th></th>\n",
       "      <th></th>\n",
       "      <th></th>\n",
       "      <th></th>\n",
       "    </tr>\n",
       "  </thead>\n",
       "  <tbody>\n",
       "    <tr>\n",
       "      <td>0</td>\n",
       "      <td>A</td>\n",
       "      <td>80.10</td>\n",
       "      <td>material_7</td>\n",
       "      <td>material_8</td>\n",
       "      <td>9</td>\n",
       "      <td>5</td>\n",
       "      <td>7</td>\n",
       "      <td>8</td>\n",
       "      <td>4</td>\n",
       "      <td>18.040</td>\n",
       "      <td>...</td>\n",
       "      <td>10.672</td>\n",
       "      <td>15.859</td>\n",
       "      <td>17.594</td>\n",
       "      <td>15.193</td>\n",
       "      <td>15.029</td>\n",
       "      <td>NaN</td>\n",
       "      <td>13.034</td>\n",
       "      <td>14.684</td>\n",
       "      <td>764.100</td>\n",
       "      <td>0</td>\n",
       "    </tr>\n",
       "    <tr>\n",
       "      <td>1</td>\n",
       "      <td>A</td>\n",
       "      <td>84.89</td>\n",
       "      <td>material_7</td>\n",
       "      <td>material_8</td>\n",
       "      <td>9</td>\n",
       "      <td>5</td>\n",
       "      <td>14</td>\n",
       "      <td>3</td>\n",
       "      <td>3</td>\n",
       "      <td>18.213</td>\n",
       "      <td>...</td>\n",
       "      <td>12.448</td>\n",
       "      <td>17.947</td>\n",
       "      <td>17.915</td>\n",
       "      <td>11.755</td>\n",
       "      <td>14.732</td>\n",
       "      <td>15.425</td>\n",
       "      <td>14.395</td>\n",
       "      <td>15.631</td>\n",
       "      <td>682.057</td>\n",
       "      <td>0</td>\n",
       "    </tr>\n",
       "    <tr>\n",
       "      <td>2</td>\n",
       "      <td>A</td>\n",
       "      <td>82.43</td>\n",
       "      <td>material_7</td>\n",
       "      <td>material_8</td>\n",
       "      <td>9</td>\n",
       "      <td>5</td>\n",
       "      <td>12</td>\n",
       "      <td>1</td>\n",
       "      <td>5</td>\n",
       "      <td>18.057</td>\n",
       "      <td>...</td>\n",
       "      <td>12.715</td>\n",
       "      <td>15.607</td>\n",
       "      <td>NaN</td>\n",
       "      <td>13.798</td>\n",
       "      <td>16.711</td>\n",
       "      <td>18.631</td>\n",
       "      <td>14.094</td>\n",
       "      <td>17.946</td>\n",
       "      <td>663.376</td>\n",
       "      <td>0</td>\n",
       "    </tr>\n",
       "    <tr>\n",
       "      <td>3</td>\n",
       "      <td>A</td>\n",
       "      <td>101.07</td>\n",
       "      <td>material_7</td>\n",
       "      <td>material_8</td>\n",
       "      <td>9</td>\n",
       "      <td>5</td>\n",
       "      <td>13</td>\n",
       "      <td>2</td>\n",
       "      <td>6</td>\n",
       "      <td>17.295</td>\n",
       "      <td>...</td>\n",
       "      <td>12.471</td>\n",
       "      <td>16.346</td>\n",
       "      <td>18.377</td>\n",
       "      <td>10.020</td>\n",
       "      <td>15.250</td>\n",
       "      <td>15.562</td>\n",
       "      <td>16.154</td>\n",
       "      <td>17.172</td>\n",
       "      <td>826.282</td>\n",
       "      <td>0</td>\n",
       "    </tr>\n",
       "    <tr>\n",
       "      <td>4</td>\n",
       "      <td>A</td>\n",
       "      <td>188.06</td>\n",
       "      <td>material_7</td>\n",
       "      <td>material_8</td>\n",
       "      <td>9</td>\n",
       "      <td>5</td>\n",
       "      <td>9</td>\n",
       "      <td>2</td>\n",
       "      <td>8</td>\n",
       "      <td>19.346</td>\n",
       "      <td>...</td>\n",
       "      <td>10.337</td>\n",
       "      <td>17.082</td>\n",
       "      <td>19.932</td>\n",
       "      <td>12.428</td>\n",
       "      <td>16.182</td>\n",
       "      <td>12.760</td>\n",
       "      <td>13.153</td>\n",
       "      <td>16.412</td>\n",
       "      <td>579.885</td>\n",
       "      <td>0</td>\n",
       "    </tr>\n",
       "  </tbody>\n",
       "</table>\n",
       "<p>5 rows × 25 columns</p>\n",
       "</div>"
      ],
      "text/plain": [
       "   product_code  loading attribute_0 attribute_1  attribute_2  attribute_3  \\\n",
       "id                                                                           \n",
       "0             A    80.10  material_7  material_8            9            5   \n",
       "1             A    84.89  material_7  material_8            9            5   \n",
       "2             A    82.43  material_7  material_8            9            5   \n",
       "3             A   101.07  material_7  material_8            9            5   \n",
       "4             A   188.06  material_7  material_8            9            5   \n",
       "\n",
       "    measurement_0  measurement_1  measurement_2  measurement_3  ...  \\\n",
       "id                                                              ...   \n",
       "0               7              8              4         18.040  ...   \n",
       "1              14              3              3         18.213  ...   \n",
       "2              12              1              5         18.057  ...   \n",
       "3              13              2              6         17.295  ...   \n",
       "4               9              2              8         19.346  ...   \n",
       "\n",
       "    measurement_9  measurement_10  measurement_11  measurement_12  \\\n",
       "id                                                                  \n",
       "0          10.672          15.859          17.594          15.193   \n",
       "1          12.448          17.947          17.915          11.755   \n",
       "2          12.715          15.607             NaN          13.798   \n",
       "3          12.471          16.346          18.377          10.020   \n",
       "4          10.337          17.082          19.932          12.428   \n",
       "\n",
       "    measurement_13  measurement_14  measurement_15  measurement_16  \\\n",
       "id                                                                   \n",
       "0           15.029             NaN          13.034          14.684   \n",
       "1           14.732          15.425          14.395          15.631   \n",
       "2           16.711          18.631          14.094          17.946   \n",
       "3           15.250          15.562          16.154          17.172   \n",
       "4           16.182          12.760          13.153          16.412   \n",
       "\n",
       "    measurement_17  failure  \n",
       "id                           \n",
       "0          764.100        0  \n",
       "1          682.057        0  \n",
       "2          663.376        0  \n",
       "3          826.282        0  \n",
       "4          579.885        0  \n",
       "\n",
       "[5 rows x 25 columns]"
      ]
     },
     "metadata": {},
     "output_type": "display_data"
    },
    {
     "name": "stdout",
     "output_type": "stream",
     "text": [
      "<class 'pandas.core.frame.DataFrame'>\n",
      "Int64Index: 21458 entries, 0 to 26569\n",
      "Data columns (total 25 columns):\n",
      "product_code      21458 non-null object\n",
      "loading           21257 non-null float64\n",
      "attribute_0       21458 non-null object\n",
      "attribute_1       21458 non-null object\n",
      "attribute_2       21458 non-null int64\n",
      "attribute_3       21458 non-null int64\n",
      "measurement_0     21458 non-null int64\n",
      "measurement_1     21458 non-null int64\n",
      "measurement_2     21458 non-null int64\n",
      "measurement_3     21146 non-null float64\n",
      "measurement_4     21016 non-null float64\n",
      "measurement_5     20893 non-null float64\n",
      "measurement_6     20818 non-null float64\n",
      "measurement_7     20692 non-null float64\n",
      "measurement_8     20605 non-null float64\n",
      "measurement_9     20469 non-null float64\n",
      "measurement_10    20399 non-null float64\n",
      "measurement_11    20278 non-null float64\n",
      "measurement_12    20171 non-null float64\n",
      "measurement_13    20063 non-null float64\n",
      "measurement_14    19976 non-null float64\n",
      "measurement_15    19855 non-null float64\n",
      "measurement_16    19750 non-null float64\n",
      "measurement_17    19640 non-null float64\n",
      "failure           21458 non-null int64\n",
      "dtypes: float64(16), int64(6), object(3)\n",
      "memory usage: 4.3+ MB\n"
     ]
    }
   ],
   "source": [
    "# 고유값인 id를 인덱스에 위치 시킵니다.\n",
    "df_basetable = pd.read_csv('train_prob.csv', index_col='id')\n",
    "display(df_basetable.head())\n",
    "df_basetable.info()"
   ]
  },
  {
   "cell_type": "markdown",
   "id": "11f35976",
   "metadata": {},
   "source": [
    "# 단계 1\n",
    "\n",
    "basetable에 measurement_3 ~17 각각의 행이 결측인지 나타내는 파생 변수를 만든다. \n",
    "\n",
    "파생 변수는 이진 형식이고, False는 미결측 True는 결측을 의미한다. \n",
    "\n",
    "파생 변수의 이름은 measurement 번호에 따라 isna_3 ~ 17로 한다. "
   ]
  },
  {
   "cell_type": "code",
   "execution_count": 151,
   "id": "9d8bd808",
   "metadata": {},
   "outputs": [
    {
     "data": {
      "text/html": [
       "<div>\n",
       "<style scoped>\n",
       "    .dataframe tbody tr th:only-of-type {\n",
       "        vertical-align: middle;\n",
       "    }\n",
       "\n",
       "    .dataframe tbody tr th {\n",
       "        vertical-align: top;\n",
       "    }\n",
       "\n",
       "    .dataframe thead th {\n",
       "        text-align: right;\n",
       "    }\n",
       "</style>\n",
       "<table border=\"1\" class=\"dataframe\">\n",
       "  <thead>\n",
       "    <tr style=\"text-align: right;\">\n",
       "      <th></th>\n",
       "      <th>isna_3</th>\n",
       "      <th>isna_4</th>\n",
       "      <th>isna_5</th>\n",
       "      <th>isna_6</th>\n",
       "      <th>isna_7</th>\n",
       "      <th>isna_8</th>\n",
       "      <th>isna_9</th>\n",
       "      <th>isna_10</th>\n",
       "      <th>isna_11</th>\n",
       "      <th>isna_12</th>\n",
       "      <th>isna_13</th>\n",
       "      <th>isna_14</th>\n",
       "      <th>isna_15</th>\n",
       "      <th>isna_16</th>\n",
       "      <th>isna_17</th>\n",
       "    </tr>\n",
       "  </thead>\n",
       "  <tbody>\n",
       "    <tr>\n",
       "      <td>0</td>\n",
       "      <td>312</td>\n",
       "      <td>442</td>\n",
       "      <td>565</td>\n",
       "      <td>640</td>\n",
       "      <td>766</td>\n",
       "      <td>853</td>\n",
       "      <td>989</td>\n",
       "      <td>1059</td>\n",
       "      <td>1180</td>\n",
       "      <td>1287</td>\n",
       "      <td>1395</td>\n",
       "      <td>1482</td>\n",
       "      <td>1603</td>\n",
       "      <td>1708</td>\n",
       "      <td>1818</td>\n",
       "    </tr>\n",
       "  </tbody>\n",
       "</table>\n",
       "</div>"
      ],
      "text/plain": [
       "   isna_3  isna_4  isna_5  isna_6  isna_7  isna_8  isna_9  isna_10  isna_11  \\\n",
       "0     312     442     565     640     766     853     989     1059     1180   \n",
       "\n",
       "   isna_12  isna_13  isna_14  isna_15  isna_16  isna_17  \n",
       "0     1287     1395     1482     1603     1708     1818  "
      ]
     },
     "execution_count": 151,
     "metadata": {},
     "output_type": "execute_result"
    }
   ],
   "source": [
    "df_basetable[['isna_{}'.format(i) for i in range(3, 18)]] = \\\n",
    "    df_basetable[['measurement_{}'.format(i) for i in range(3, 18)]].isna()\n",
    "df_basetable[['isna_{}'.format(i) for i in range(3, 18)]].sum().to_frame().T"
   ]
  },
  {
   "cell_type": "markdown",
   "id": "3173737d",
   "metadata": {},
   "source": [
    "## 단계 2\n",
    "\n",
    "이 과제를 맡은 데이터분석가 지희는 measurement_3~17의 결측치 처리 방안을 고민하던 중, \n",
    "\n",
    "개발부서에서 measurement_17은 product_code별로 failure를 예측하기 위해 \n",
    "\n",
    "measurement_3 ~ measurement_9을 다음과 같이 선형 조합하여 생성한 값이라는 정보를 받았다. \n",
    "\n",
    "$measurement_{17}= \\beta_{0} + \\beta_{3}measurement_{3}+\\beta_{4}measurement_{4}+...+\\beta_{9}measurement_{9}$\n",
    "\n",
    "이는 즉,\n",
    "\n",
    "$measurement_{3}= \\beta'_{0} + \\beta'_{4}measurement_{4}+\\beta'_{5}measurement_{5}+...+\\beta'_{9}measurement_{9} + \\beta'_{17}measurement_{17}$\n",
    "\n",
    "...\n",
    "\n",
    "$measurement_{9}= \\beta''_{0} + \\beta''_{3}measurement_{3}+\\beta''_{4}measurement_{4}+...+\\beta''_{8}measurement_{8}+\\beta''_{17}measurement_{17}$\n",
    "\n",
    "와 같이 measurement_3 ~ measurement_9의 각 변수들도 나머지 변수들과 선형 관계를 지닌다. \n",
    "\n",
    "이 점을 이용하여 대상 변수를 번갈아 가면서 예측 모델을 만들어 최대한 원래 값에 가깝게 복원할 수 있다. \n",
    "\n",
    "이러한 반복적인 결측치 복원 방법을 사내 데이터분석 연구소에 문의 했더니 다음과 같은 가이드를 주었다. \n",
    "\n",
    "> sklearn 모듈에 아직은 실험 단계이지만, 비슷한 경우에 문제 없이 사용했던 사례가 있어 의견을 드립니다. \n",
    "\n",
    "> from sklearn.experimental import enable_iterative_imputer 구문을 사용하여 실험 단계인 모듈을 활성화하고, \n",
    "\n",
    "> sklearn.impute.IterativeImputer를 사용한다면 원하는 결과를 얻을 수 있습니다.\n",
    "\n",
    "가이드의 내용을 참조하여 basetable의 measurement_3~9와 measurement_17 결측치를 복원하라.\n",
    "\n",
    "\n",
    "입력 변수] measurement_3 ~ 9, measurement_17 (입력 변수 순서에 유의)\n",
    "\n",
    "---\n",
    "**함수가이드**\n",
    "\n",
    "sklearn.experimental.enable_iterative_imputer\n",
    "\n",
    "sklearn.impute.IterativeImputer, random_state=123\n",
    "\n",
    "sklearn.linear_model.LinearRegression\n",
    "\n",
    "문제 지시사항 외 Default 값 사용\n",
    "\n",
    "---\n"
   ]
  },
  {
   "cell_type": "code",
   "execution_count": 152,
   "id": "a94de17c",
   "metadata": {},
   "outputs": [],
   "source": [
    "# 방법 1: product_code 별로 IterativeImputer를 학습시키고, product_code 별로 결측을 처리합니다.\n",
    "\n",
    "from sklearn.experimental import enable_iterative_imputer\n",
    "from sklearn.impute import IterativeImputer\n",
    "from sklearn.linear_model import LinearRegression\n",
    "\n",
    "# 결측치 처리 모델을 생성 시킵니다.\n",
    "def create_imp():\n",
    "    return IterativeImputer(\n",
    "        estimator = LinearRegression(fit_intercept=True),\n",
    "        random_state=123\n",
    "    )\n",
    "X_imp = ['measurement_{}'.format(i) for i in range(3, 10)] + ['measurement_17']\n",
    "\n",
    "# product_code 별로 모델을 **생성**시키고, 모델을 학습시킵니다.\n",
    "s_imp = df_basetable.groupby('product_code')[X_imp].apply(\n",
    "    lambda x: create_imp().fit(x[X_imp])\n",
    ")\n",
    "# apply의 lambda x: 에서 넘겨주는 DataFrame의 .name attribute에는 해당 product_code 값이 있습니다.\n",
    "# 이를 활용하여 s_imp에 있는 모델을 가져옵니다.\n",
    "# apply에서 transform에서 numpy array를 넘겨 주므로, \n",
    "# DataFrame을 만들어 반환시켜주면,\n",
    "# apply에서 DataFrame으로 재구성하여 넘겨줍니다.\n",
    "# 모델을 적용하여 결측이 처리된 데이터프레임을 만듭니다.\n",
    "df_basetable[X_imp] = df_basetable.groupby('product_code')[X_imp].apply(\n",
    "    lambda x: pd.DataFrame(s_imp.loc[x.name].transform(x[X_imp]), index=x.index, columns=x.columns)\n",
    ")"
   ]
  },
  {
   "cell_type": "code",
   "execution_count": 153,
   "id": "e6ed38a7",
   "metadata": {},
   "outputs": [],
   "source": [
    "# 방법 2: product_code 별로 IterativeImputer를 통한 결측처리를 하고 바로 적용합니다.\n",
    "\n",
    "X_imp = ['measurement_{}'.format(i) for i in range(3, 10)] + ['measurement_17']\n",
    "imp = IterativeImputer(\n",
    "    estimator = LinearRegression(fit_intercept=True),\n",
    "    random_state=123\n",
    ")\n",
    "df_basetable[X_imp] = df_basetable.groupby('product_code')[X_imp].apply(\n",
    "    lambda x: pd.DataFrame(imp.fit_transform(x[X_imp]), index=x.index, columns=x.columns)\n",
    ")"
   ]
  },
  {
   "cell_type": "code",
   "execution_count": 154,
   "id": "561a5105",
   "metadata": {},
   "outputs": [],
   "source": [
    "# 방법 3: 반복문을 통한 방법입니다.\n",
    "\n",
    "for i in df_basetable['product_code'].unique():\n",
    "    s_idx = df_basetable['product_code'] == i\n",
    "    # 값을 대입할 때, 대입에 대상이 되는 데이터프레임을\n",
    "    # df_basetable.loc[s_idx][X_imp] 이런식으로 filtering -> 컬럼선택 2단계로 할 경우 reference 경고를 받게 됩니다.\n",
    "    # df_basetable.loc[s_idx, X_imp] filtering과 columns 선택을 하여 중간에 reference DataFrame 없이 처리하도록 합니다.\n",
    "    df_basetable.loc[s_idx, X_imp] = \\\n",
    "        imp.fit_transform(df_basetable.loc[s_idx, X_imp])"
   ]
  },
  {
   "cell_type": "markdown",
   "id": "c95edba8",
   "metadata": {},
   "source": [
    "## 단계 3\n",
    "\n",
    "measurement_10~16까지의 결측치는 모두 product_code별 평균으로 대치한다."
   ]
  },
  {
   "cell_type": "code",
   "execution_count": 155,
   "id": "0bea1389",
   "metadata": {},
   "outputs": [],
   "source": [
    "# 방법 1: groupby ~ transform\n",
    "# Transform을 통해 수준별 평균으로 1:1 변환된 값으로 구성된 DataFrame을 받아서, \n",
    "# 각각의 요소별로 결측이면 해당값으로 치환되게 구성합니다.\n",
    "X_mean = ['measurement_{}'.format(i) for i in range(10, 17)]\n",
    "df_basetable[X_mean] = df_basetable.groupby('product_code')[X_mean].transform(lambda x: x.fillna(x.mean()))"
   ]
  },
  {
   "cell_type": "code",
   "execution_count": 156,
   "id": "b78fad91",
   "metadata": {},
   "outputs": [],
   "source": [
    "# 방법 2: groupby ~ apply\n",
    "# apply 사용후 groupby에 의해 구분된 수준이 불필요(1:1 변환작업이라는 점에서)하게 index에 붙을 수가 있습니다.\n",
    "# 이 때는 DataFrame에 index를 지정하여 반환시키면 없앨 수 있습니다.\n",
    "df_basetable[X_mean] = df_basetable.groupby('product_code')[X_mean].apply(lambda x: pd.DataFrame(x.fillna(x.mean()), index=x.index))"
   ]
  },
  {
   "cell_type": "markdown",
   "id": "d62884d7",
   "metadata": {},
   "source": [
    "Hint] 전처리 단계에서 보간 결과를 확인해 보기 위한 각 변수의 평균과 표본표준편차.\n",
    "\n",
    "| |3|4|5|6|7|8|9|10|11|12|13|14|15|16|17|\n",
    "|-|-|-|-|-|-|-|-|--|--|--|--|--|--|--|--|\n",
    "|mean|17.796|11.736|17.131|17.506|11.719|19.022|11.434|16.034|19.194|11.734|15.666|16.033|15.051|16.398|701.768|\n",
    "|std|0.997|0.994|0.994|0.992|0.993|1.005|0.997|1.278|1.579|1.433|1.149|1.461|1.478|1.671|119.180|\n",
    "\n",
    "열의 이름의 숫자는 measurement_ 번호, 값은 소수점 3째 자리까지 반올림"
   ]
  },
  {
   "cell_type": "code",
   "execution_count": 157,
   "id": "0ff22f9e",
   "metadata": {},
   "outputs": [
    {
     "data": {
      "text/html": [
       "<div>\n",
       "<style scoped>\n",
       "    .dataframe tbody tr th:only-of-type {\n",
       "        vertical-align: middle;\n",
       "    }\n",
       "\n",
       "    .dataframe tbody tr th {\n",
       "        vertical-align: top;\n",
       "    }\n",
       "\n",
       "    .dataframe thead th {\n",
       "        text-align: right;\n",
       "    }\n",
       "</style>\n",
       "<table border=\"1\" class=\"dataframe\">\n",
       "  <thead>\n",
       "    <tr style=\"text-align: right;\">\n",
       "      <th></th>\n",
       "      <th>3</th>\n",
       "      <th>4</th>\n",
       "      <th>5</th>\n",
       "      <th>6</th>\n",
       "      <th>7</th>\n",
       "      <th>8</th>\n",
       "      <th>9</th>\n",
       "      <th>10</th>\n",
       "      <th>11</th>\n",
       "      <th>12</th>\n",
       "      <th>13</th>\n",
       "      <th>14</th>\n",
       "      <th>15</th>\n",
       "      <th>16</th>\n",
       "      <th>17</th>\n",
       "    </tr>\n",
       "  </thead>\n",
       "  <tbody>\n",
       "    <tr>\n",
       "      <td>mean</td>\n",
       "      <td>17.796</td>\n",
       "      <td>11.736</td>\n",
       "      <td>17.131</td>\n",
       "      <td>17.506</td>\n",
       "      <td>11.719</td>\n",
       "      <td>19.022</td>\n",
       "      <td>11.434</td>\n",
       "      <td>16.034</td>\n",
       "      <td>19.194</td>\n",
       "      <td>11.734</td>\n",
       "      <td>15.666</td>\n",
       "      <td>16.033</td>\n",
       "      <td>15.051</td>\n",
       "      <td>16.398</td>\n",
       "      <td>701.768</td>\n",
       "    </tr>\n",
       "    <tr>\n",
       "      <td>std</td>\n",
       "      <td>0.997</td>\n",
       "      <td>0.994</td>\n",
       "      <td>0.994</td>\n",
       "      <td>0.992</td>\n",
       "      <td>0.993</td>\n",
       "      <td>1.005</td>\n",
       "      <td>0.997</td>\n",
       "      <td>1.278</td>\n",
       "      <td>1.579</td>\n",
       "      <td>1.433</td>\n",
       "      <td>1.149</td>\n",
       "      <td>1.461</td>\n",
       "      <td>1.478</td>\n",
       "      <td>1.671</td>\n",
       "      <td>119.180</td>\n",
       "    </tr>\n",
       "  </tbody>\n",
       "</table>\n",
       "</div>"
      ],
      "text/plain": [
       "           3       4       5       6       7       8       9      10      11  \\\n",
       "mean  17.796  11.736  17.131  17.506  11.719  19.022  11.434  16.034  19.194   \n",
       "std    0.997   0.994   0.994   0.992   0.993   1.005   0.997   1.278   1.579   \n",
       "\n",
       "          12      13      14      15      16       17  \n",
       "mean  11.734  15.666  16.033  15.051  16.398  701.768  \n",
       "std    1.433   1.149   1.461   1.478   1.671  119.180  "
      ]
     },
     "execution_count": 157,
     "metadata": {},
     "output_type": "execute_result"
    }
   ],
   "source": [
    "# rename(columns=lambda x: ) x에는 컬럼명들이 넘어오고 이를 기반으로 컬럼명을 변경할 수 있습니다.\n",
    "df_basetable[['measurement_{}'.format(i) for i in range(3, 18)]].agg(['mean', 'std']).round(3)\\\n",
    "    .rename(columns=lambda x: x.split('_')[-1])"
   ]
  },
  {
   "cell_type": "markdown",
   "id": "218dab47",
   "metadata": {},
   "source": [
    "# 문제1\n",
    "\n",
    "(basetable을 사용) measurement_3~16까지 결측 여부가 failure에 영향이 있는지를 파악하고, \n",
    "\n",
    "failure를 분류하는 데 도움이 될 만한 것은 예측 모델의 입력 변수로 사용하고자 한다. \n",
    "\n",
    "이를 위해 전처리 과정에서 뽑아낸 isna_3~16을 활용한다.\n",
    "\n",
    "n이 3부터 16까지, 즉 measurement_3~16까지 다음의 검정을 수행한다. \n",
    "\n",
    "$H_0: P(failure=True|measurement_{n}=Missing)=P(failure=True)$\n",
    "\n",
    "$H_1: P(failure=True|measurement_{n}=Missing) \\neq P(failure=True)$\n",
    "\n",
    "모집단의 $P(failure=True) = 0.2114$\n"
   ]
  },
  {
   "cell_type": "code",
   "execution_count": null,
   "id": "9ed64b12",
   "metadata": {},
   "outputs": [],
   "source": []
  },
  {
   "cell_type": "markdown",
   "id": "91304a06",
   "metadata": {},
   "source": [
    "## 단계 1-1\n",
    "\n",
    "우선, measurement_3으로 위 검정을 시행해보자.\n",
    "\n",
    "$H_0: P(failure=True|isna_{3}=True)=0.2114$\n",
    "\n",
    "$H_1: P(failure=True|isna_{3}=True) \\neq 0.2114$\n",
    "\n",
    "으로 바꿀 수 있다.\n",
    "\n",
    "$P(failure=True|isna_{3}=True)$은 표본수가 충분하여 중심극한정리에 의해 정규분포를 따르는 것은 분석가 간에 이견이 없다고 한다. \n",
    "\n",
    "위 검정의 p-value를 구하여 보고 힌트에 주어진 p-value와 비교하여 검정 방법에 문제가 없음을 확인하라.\n",
    "\n",
    "---\n",
    "\n",
    "**함수 가이드**\n",
    "\n",
    " scipy.stats 에서 제공 기능 활용\n",
    " \n",
    " 문제 지시사항 외 Default 값 사용\n",
    " \n",
    "---\n",
    "\n",
    " Hint] p-value는 0.0037(소수점 다섯째 자리에서 반올림하여 넷째 자리까지 표시)\n"
   ]
  },
  {
   "cell_type": "code",
   "execution_count": 63,
   "id": "93b98c5b",
   "metadata": {},
   "outputs": [
    {
     "data": {
      "text/plain": [
       "(0.0036630709140241546,\n",
       " 312,\n",
       " 0.14423076923076922,\n",
       " 0.0005343270512820513,\n",
       " -2.905807189028007)"
      ]
     },
     "execution_count": 63,
     "metadata": {},
     "output_type": "execute_result"
    }
   ],
   "source": [
    "from scipy.stats import norm\n",
    "\n",
    "# 모집단의 failure가 True인 비율(True = 1로 매칭한다면, 평균)\n",
    "# 베르누이 분포는 확률이 곧 평균입니다.\n",
    "p_true = p_mean = 0.2114\n",
    "# 베르누이 분포의 성질을 이용하면, 모집단의 분산을 구할 수 있습니다. 분산 = p × (1 - p)\n",
    "p_var = p_true * (1 - p_true)\n",
    "# isna_3가 결측인 개수(표본수)\n",
    "n_sam = df_basetable['isna_3'].sum()\n",
    "# 표본에서 관측한 비율(평균)을 구합니다.\n",
    "p_sam_mean = df_basetable.loc[df_basetable['isna_3'], 'failure'].mean()\n",
    "# 표본의 평균의 분산은 = 모집단의 분산 / 표본수\n",
    "p_sam_var = p_var / n_sam\n",
    "\n",
    "# 검정통계량을 구합니다. \n",
    "# 양측 검증이라 적용의 편의성을 위해\n",
    "# 표준화 후 좌측 꼬리의 검정통계량을 구하기 위해, 절대값에 마이너스를 취합니다.\n",
    "Z = -abs((p_sam_mean - p_mean) / (p_sam_var ** 0.5))\n",
    "\n",
    "# 누적분포함수를 이용하여 좌측 꼬리 영역을 구하고 x 2 를 해주어 양쪽 영역을 구합니다.\n",
    "pvalue = norm.cdf(Z) * 2\n",
    "pvalue, n_sam, p_sam_mean, p_sam_var, Z"
   ]
  },
  {
   "cell_type": "code",
   "execution_count": 64,
   "id": "075d1940",
   "metadata": {},
   "outputs": [
    {
     "data": {
      "text/plain": [
       "(-2.905807189028007, 0.0036630709140241546)"
      ]
     },
     "execution_count": 64,
     "metadata": {},
     "output_type": "execute_result"
    }
   ],
   "source": [
    "from statsmodels.stats.proportion import proportions_ztest\n",
    "proportions_ztest(\n",
    "    df_basetable.loc[df_basetable['isna_3'], 'failure'].sum(), # positive(failure=True)인 빈도수\n",
    "    n_sam, # 표본의 수\n",
    "    p_true, # 귀무가설에서 제시한 모집단의 비율\n",
    "    alternative = 'two-sided', # 검정의 종류: 양측 검정\n",
    "    prop_var = p_true # 베르누이 분포의 분산을 계산할 때의 비율 (모집단의 비율과 동일하게 설정합니다.)\n",
    ")"
   ]
  },
  {
   "cell_type": "code",
   "execution_count": 65,
   "id": "5357b9c1",
   "metadata": {},
   "outputs": [
    {
     "data": {
      "image/png": "[encoded data removed]",
      "text/plain": [
       "<Figure size 640x480 with 1 Axes>"
      ]
     },
     "metadata": {},
     "output_type": "display_data"
    }
   ],
   "source": [
    "# 표준정규 분포를 이용한 pvalue 도출을 그래프로 설명해봅니다\n",
    "from scipy.stats import norm\n",
    "P_true = 0.2114\n",
    "col = 'isna_{}'.format(4)\n",
    "P_var = P_true * (1 - P_true)\n",
    "n_samples = df_basetable[col].sum()\n",
    "P_missing_true = df_basetable.loc[df_basetable[col], 'failure'].mean()\n",
    "P_missing_var = P_var / n_samples\n",
    "P_missing_std = P_missing_var ** 0.5\n",
    "\n",
    "stat = -abs((P_missing_true - P_true) / P_missing_std)\n",
    "\n",
    "plt.plot(np.linspace(-5, 5, 100), norm.pdf(np.linspace(-5, 5, 100)))\n",
    "plt.axvline(stat, color='red', linestyle='--')\n",
    "plt.text(stat, 0.03, str(stat)[:7])\n",
    "plt.axvline(-stat, color='red', linestyle='--')\n",
    "plt.text(-stat, 0.01, str(-stat)[:6])\n",
    "plt.fill_between(np.linspace(-5, stat, 100), np.zeros(shape=100),\n",
    "                norm.pdf(np.linspace(-5, stat, 100)), color='orange')\n",
    "plt.fill_between(np.linspace(-stat, 5, 100), np.zeros(shape=100),\n",
    "                norm.pdf(np.linspace(-stat, 5, 100)), color='orange')\n",
    "\n",
    "plt.show()"
   ]
  },
  {
   "cell_type": "markdown",
   "id": "91c87c44",
   "metadata": {},
   "source": [
    "## 단계 1-2\n",
    "\n",
    "measuremenet_3을 포함하여 measurement_4 ~ 16까지 위 검정을 반복하고 \n",
    "\n",
    "귀무가설을 기각할 수 있는 경우의 p-value의 합을 A라고 한다. (유의 수준은 5%로 한다.)"
   ]
  },
  {
   "cell_type": "code",
   "execution_count": 66,
   "id": "f49aa12e",
   "metadata": {},
   "outputs": [
    {
     "name": "stdout",
     "output_type": "stream",
     "text": [
      "isna_3 0.0036630709140241546 312 0.14423076923076922 0.0005343270512820513 -2.905807189028007\n",
      "isna_4 0.17803686833140808 442 0.23755656108597284 0.00037717203619909505 -1.3468241702718833\n",
      "isna_5 0.026325008335499278 565 0.24955752212389382 0.00029506201769911503 -2.2213833417706925\n",
      "isna_6 0.793491357072205 640 0.215625 0.0002604844375 -0.2617796136561279\n",
      "isna_7 0.37298091572329806 766 0.2245430809399478 0.00021763712793733682 -0.8909035498642803\n",
      "isna_8 0.48514534123655306 853 0.20164126611957797 0.0001954396717467761 -0.6980509343383379\n",
      "isna_9 0.589649524697301 989 0.21840242669362994 0.00016856424671385237 -0.5393439841397007\n",
      "isna_10 0.44594047726157915 1059 0.22096317280453256 0.00015742213408876299 -0.7622002829475777\n",
      "isna_11 0.9175464043670771 1180 0.21016949152542372 0.00014127969491525423 -0.1035248797832757\n",
      "isna_12 0.5421744277936988 1287 0.21833721833721834 0.00012953383061383063 -0.6095281379895136\n",
      "isna_13 0.6507952588133231 1395 0.2064516129032258 0.00011950540501792115 -0.45265767845606597\n",
      "isna_14 0.49582912857498873 1482 0.21862348178137653 0.00011248990553306344 -0.681066949794218\n",
      "isna_15 0.9938599942603648 1603 0.2114784778540237 0.00010399877729257642 -0.0076954319495023404\n",
      "isna_16 0.6324265724265041 1708 0.2066744730679157 9.760540983606558e-05 -0.4783142261813061\n"
     ]
    },
    {
     "data": {
      "text/plain": [
       "(0.029988079249523434, ['isna_3', 'isna_5'])"
      ]
     },
     "execution_count": 66,
     "metadata": {},
     "output_type": "execute_result"
    }
   ],
   "source": [
    "# 반복문을 통하여 나머지 변수에 대해서도 검정을 합니다.\n",
    "\n",
    "from scipy.stats import norm\n",
    "\n",
    "p_mean = 0.2114\n",
    "p_var = p_mean * (1 - p_mean)\n",
    "\n",
    "A = 0\n",
    "na_sel = list()\n",
    "for i in range(3, 17):\n",
    "    na_col = 'isna_{}'.format(i)\n",
    "    n_sam = df_basetable[na_col].sum()\n",
    "    p_sam_mean = df_basetable.loc[df_basetable[na_col], 'failure'].mean()\n",
    "    p_sam_var = p_var / n_sam\n",
    "    Z = -abs((p_sam_mean - p_mean) / (p_sam_var ** 0.5))\n",
    "    pvalue = norm.cdf(Z) * 2\n",
    "    # 귀무가설을 기각할 수 있는지 확인합니다.(유의수준: 5%)\n",
    "    if pvalue < 0.05:\n",
    "        A += pvalue\n",
    "        na_sel.append(na_col)\n",
    "    print(na_col, pvalue, n_sam, p_sam_mean, p_sam_var, Z)\n",
    "A, na_sel"
   ]
  },
  {
   "cell_type": "markdown",
   "id": "df03a86a",
   "metadata": {},
   "source": [
    "## 단계 1-3\n",
    "\n",
    "검정 결과 귀무가설을 기각할 수 있는 경우는 총 두 건이다. \n",
    "\n",
    "해당 파생 변수명의 뒷 자리 번호 순으로 na_1, na_2로 파생 변수를 만들어 prob1 데이터셋을 생성하라."
   ]
  },
  {
   "cell_type": "code",
   "execution_count": 67,
   "id": "207e8c39",
   "metadata": {},
   "outputs": [],
   "source": [
    "df_prob1 = df_basetable.assign(\n",
    "    na_1 = lambda x: x['isna_3'],\n",
    "    na_2 = lambda x: x['isna_5'],\n",
    ")\n",
    "df_prob1.head()"
   ]
  },
  {
   "cell_type": "code",
   "execution_count": 68,
   "id": "5868781d",
   "metadata": {},
   "outputs": [
    {
     "data": {
      "text/plain": [
       "(0.029988079249523434, 0.03)"
      ]
     },
     "execution_count": 68,
     "metadata": {},
     "output_type": "execute_result"
    }
   ],
   "source": [
    "A, round(A, 3)"
   ]
  },
  {
   "cell_type": "markdown",
   "id": "c33bbf8c",
   "metadata": {},
   "source": [
    "A의 값을 소수점 넷째 자리에서 반올림하여 셋째 자리까지 출력하시오. \n",
    "\n",
    "**0.030**"
   ]
  },
  {
   "cell_type": "markdown",
   "id": "569d2d0f",
   "metadata": {},
   "source": [
    "# 문제 2\n",
    "\n",
    "첫째는 스프링 개발 업체들은 실험이 제품 별로 공정하게 진행이 됐는지를 의문을 가지고 있다.\n",
    "\n",
    "product_code에 따라 개발 업체가 다르다. \n",
    "\n",
    "product_code에 대해서 스프링에 가한 부하(loading)를 동일하게 했는지 조사하라.\n",
    "\n",
    "둘째는, attribute_0와 attribute_1은 스프링을 구성하는 주요 소재이다. \n",
    "\n",
    "failure와는 관계가 없음이 이전에 검증되었다. \n",
    "\n",
    "하지만, 이에 대한 재확인 요청을 받아 attribute_0와 attribute_1은 failure와 상관없음을 확인한다.\n",
    "\n",
    "이를 위해 다음 단계를 수행하라.\n"
   ]
  },
  {
   "cell_type": "code",
   "execution_count": null,
   "id": "8bb314a6",
   "metadata": {},
   "outputs": [],
   "source": []
  },
  {
   "cell_type": "markdown",
   "id": "cfc21275",
   "metadata": {},
   "source": [
    "## 단계 2-1\n",
    "\n",
    "prob1에서 입력 변수 loading에 결측이 없는 행들을 뽑아 prob2 데이터프레임을 만든다.\n",
    "\n",
    "Hint] prob2의 데이터 수는 21,257 이다.\n"
   ]
  },
  {
   "cell_type": "code",
   "execution_count": 69,
   "id": "d2ef461d",
   "metadata": {},
   "outputs": [
    {
     "data": {
      "text/plain": [
       "21257"
      ]
     },
     "execution_count": 69,
     "metadata": {},
     "output_type": "execute_result"
    }
   ],
   "source": [
    "df_prob2 = df_prob1.loc[~df_prob1['loading'].isna()].copy()\n",
    "len(df_prob2)"
   ]
  },
  {
   "cell_type": "markdown",
   "id": "82ebf527",
   "metadata": {},
   "source": [
    "## 단계 2-2\n",
    "\n",
    "prob2에 loading의 각 행들에 자연 로그 함수를 적용하여 파생 변수 loading_log를 만든다.\n"
   ]
  },
  {
   "cell_type": "code",
   "execution_count": 70,
   "id": "fb0152db",
   "metadata": {},
   "outputs": [],
   "source": [
    "df_prob2['loading_log'] = np.log(df_prob2['loading'])"
   ]
  },
  {
   "cell_type": "code",
   "execution_count": 72,
   "id": "4e6a8284",
   "metadata": {},
   "outputs": [
    {
     "data": {
      "image/png": "[encoded data removed]",
      "text/plain": [
       "<Figure size 1600x300 with 2 Axes>"
      ]
     },
     "metadata": {},
     "output_type": "display_data"
    }
   ],
   "source": [
    "fig, axes = plt.subplots(1, 2, figsize=(16, 3))\n",
    "sns.histplot(df_prob2['loading'], ax=axes[0])\n",
    "sns.histplot(df_prob2['loading_log'], ax=axes[1])\n",
    "plt.tight_layout()\n",
    "plt.show()"
   ]
  },
  {
   "cell_type": "markdown",
   "id": "ea2245b2",
   "metadata": {},
   "source": [
    "## 단계 2-3\n",
    "\n",
    "loading_log가 product_code 각각에 대해서 정규성을 지니고 있는지 확인하고자 한다.\n",
    "\n",
    "이를 위해 product_code 별로 loading_log에 대한 Jarque-Bera로 검정하고, \n",
    "\n",
    "검정 결과 정규성을 부정할 수 없는 경우의 product_code의 수를 B라고 한다.(유의 수준: 5%)\n",
    "\n",
    "---\n",
    "\n",
    "**함수 가이드**\n",
    "\n",
    " scipy.stats 에서 제공 기능 활용\n",
    " \n",
    " 문제 지시사항 외 Default 값 사용\n",
    " \n",
    "---\n"
   ]
  },
  {
   "cell_type": "code",
   "execution_count": 75,
   "id": "f7563df2",
   "metadata": {},
   "outputs": [
    {
     "data": {
      "text/plain": [
       "(Jarque_beraResult(statistic=1.467731470333654, pvalue=0.4800496537264637),\n",
       " Jarque_beraResult(statistic=0.6168837955943998, pvalue=0.7345906322931469),\n",
       " Jarque_beraResult(statistic=7.536229242478234, pvalue=0.023095566154546443),\n",
       " Jarque_beraResult(statistic=0.04839464502051384, pvalue=0.9760930856160965))"
      ]
     },
     "execution_count": 75,
     "metadata": {},
     "output_type": "execute_result"
    }
   ],
   "source": [
    "# 방법 1: 하드코딩\n",
    "from scipy.stats import jarque_bera\n",
    "\n",
    "(\n",
    "    jarque_bera(df_prob2.loc[df_prob2['product_code'] == 'A', 'loading_log']),\n",
    "    jarque_bera(df_prob2.loc[df_prob2['product_code'] == 'B', 'loading_log']),\n",
    "    jarque_bera(df_prob2.loc[df_prob2['product_code'] == 'C', 'loading_log']),\n",
    "    jarque_bera(df_prob2.loc[df_prob2['product_code'] == 'E', 'loading_log'])\n",
    ")"
   ]
  },
  {
   "cell_type": "code",
   "execution_count": 79,
   "id": "3d84941f",
   "metadata": {},
   "outputs": [
    {
     "data": {
      "text/html": [
       "<div>\n",
       "<style scoped>\n",
       "    .dataframe tbody tr th:only-of-type {\n",
       "        vertical-align: middle;\n",
       "    }\n",
       "\n",
       "    .dataframe tbody tr th {\n",
       "        vertical-align: top;\n",
       "    }\n",
       "\n",
       "    .dataframe thead th {\n",
       "        text-align: right;\n",
       "    }\n",
       "</style>\n",
       "<table border=\"1\" class=\"dataframe\">\n",
       "  <thead>\n",
       "    <tr style=\"text-align: right;\">\n",
       "      <th></th>\n",
       "      <th>stat</th>\n",
       "      <th>pvalue</th>\n",
       "    </tr>\n",
       "    <tr>\n",
       "      <th>product_code</th>\n",
       "      <th></th>\n",
       "      <th></th>\n",
       "    </tr>\n",
       "  </thead>\n",
       "  <tbody>\n",
       "    <tr>\n",
       "      <td>A</td>\n",
       "      <td>1.467731</td>\n",
       "      <td>0.480050</td>\n",
       "    </tr>\n",
       "    <tr>\n",
       "      <td>B</td>\n",
       "      <td>0.616884</td>\n",
       "      <td>0.734591</td>\n",
       "    </tr>\n",
       "    <tr>\n",
       "      <td>C</td>\n",
       "      <td>7.536229</td>\n",
       "      <td>0.023096</td>\n",
       "    </tr>\n",
       "    <tr>\n",
       "      <td>E</td>\n",
       "      <td>0.048395</td>\n",
       "      <td>0.976093</td>\n",
       "    </tr>\n",
       "  </tbody>\n",
       "</table>\n",
       "</div>"
      ],
      "text/plain": [
       "                  stat    pvalue\n",
       "product_code                    \n",
       "A             1.467731  0.480050\n",
       "B             0.616884  0.734591\n",
       "C             7.536229  0.023096\n",
       "E             0.048395  0.976093"
      ]
     },
     "execution_count": 79,
     "metadata": {},
     "output_type": "execute_result"
    }
   ],
   "source": [
    "# 방법 2: groupby ~ apply\n",
    "df_jarque = df_prob2.groupby('product_code')['loading_log'].apply(\n",
    "    lambda x: pd.Series(jarque_bera(x), index=['stat', 'pvalue'])\n",
    ").unstack()\n",
    "df_jarque"
   ]
  },
  {
   "cell_type": "code",
   "execution_count": 80,
   "id": "ea311018",
   "metadata": {},
   "outputs": [
    {
     "data": {
      "text/plain": [
       "3"
      ]
     },
     "execution_count": 80,
     "metadata": {},
     "output_type": "execute_result"
    }
   ],
   "source": [
    "B = (df_jarque['pvalue'] >= 0.05).sum()\n",
    "B"
   ]
  },
  {
   "cell_type": "markdown",
   "id": "dce7e5cf",
   "metadata": {},
   "source": [
    "## 단계 2-4\n",
    "\n",
    "loading_log 변수를 product_code로 구분했을 때, \n",
    "\n",
    "등분산성을 보이는지 Bartlett 검정을 통해 확인한다.\n",
    "\n",
    "검정 결과에서 p-value를 C라고 한다.\n",
    "\n",
    "---\n",
    "\n",
    "**함수 가이드**\n",
    "\n",
    " scipy.stats 에서 제공 기능 활용\n",
    " \n",
    " 문제 지시사항 외 Default 값 사용\n",
    " \n",
    "---\n"
   ]
  },
  {
   "cell_type": "code",
   "execution_count": 88,
   "id": "58e4897b",
   "metadata": {},
   "outputs": [
    {
     "data": {
      "text/plain": [
       "BartlettResult(statistic=1.928667047072185, pvalue=0.5873433093297675)"
      ]
     },
     "execution_count": 88,
     "metadata": {},
     "output_type": "execute_result"
    }
   ],
   "source": [
    "# 방법 1: 하드코딩\n",
    "from scipy.stats import bartlett\n",
    "bartlett(\n",
    "    df_prob2.loc[df_prob2['product_code'] == 'A', 'loading_log'],\n",
    "    df_prob2.loc[df_prob2['product_code'] == 'B', 'loading_log'],\n",
    "    df_prob2.loc[df_prob2['product_code'] == 'C', 'loading_log'],\n",
    "    df_prob2.loc[df_prob2['product_code'] == 'E', 'loading_log']\n",
    ")"
   ]
  },
  {
   "cell_type": "code",
   "execution_count": 140,
   "id": "f1985b29",
   "metadata": {
    "scrolled": true
   },
   "outputs": [],
   "source": [
    "# 방법 2: groupby + list unpacking\n",
    "result_2_4 = bartlett(\n",
    "    *df_prob2.groupby('product_code')['loading_log'].agg(list)\n",
    ")\n",
    "C = result_2_4.pvalue"
   ]
  },
  {
   "cell_type": "markdown",
   "id": "b058c6b2",
   "metadata": {},
   "source": [
    "## 단계 2-5\n",
    "\n",
    "product_code에 대한 분산분석(ANOVA)을 통해서 loading_log 평균에 차이가 있는지 검정한다.\n",
    "\n",
    "그 결과 중 p-value를 D라고 한다.\n",
    "\n",
    "---\n",
    "\n",
    "**함수 가이드**\n",
    "\n",
    " scipy.stats 제공 기능 활용\n",
    " \n",
    " 문제 지시사항 외 Default 값 사용\n",
    " \n",
    "---\n"
   ]
  },
  {
   "cell_type": "code",
   "execution_count": 141,
   "id": "ec47f9e0",
   "metadata": {},
   "outputs": [
    {
     "data": {
      "text/plain": [
       "(0.7733782072320899,\n",
       " F_onewayResult(statistic=0.37177284134760413, pvalue=0.7733782072320899))"
      ]
     },
     "execution_count": 141,
     "metadata": {},
     "output_type": "execute_result"
    }
   ],
   "source": [
    "from scipy.stats import f_oneway\n",
    "\n",
    "result_2_5 = f_oneway(\n",
    "    *df_prob2.groupby('product_code')['loading_log'].agg(list)\n",
    ")\n",
    "D = result_2_5.pvalue\n",
    "D, result_2_5"
   ]
  },
  {
   "cell_type": "markdown",
   "id": "85c66686",
   "metadata": {},
   "source": [
    "**Tip!**  일원분산분석을 직접 해봅니다.\n",
    "\n",
    "GroupBy에 대한 활용법을 더 알아보고, \n",
    "\n",
    "ANOVA에 대한 이해를 공고히 해보기 위해 예를 들어 보입니다."
   ]
  },
  {
   "cell_type": "code",
   "execution_count": 142,
   "id": "5e897bf1",
   "metadata": {},
   "outputs": [
    {
     "data": {
      "text/plain": [
       "(0.3717728413460874, 0.7733782072333035, 0.7733782072326594)"
      ]
     },
     "execution_count": 142,
     "metadata": {},
     "output_type": "execute_result"
    }
   ],
   "source": [
    "# 통계량 F = MSR/MSE를 구하기 위해서는, \n",
    "# SSR, SSE와 SSR에서의 자유도(dof1), SSE에서의 자유도(dof2)를 구합니다.\n",
    "# 이를 통해, MSR, MSE를 구합니다.\n",
    "\n",
    "# F = MSR / MSE, dof1 = \"product_code 수\" - 1, dof2 = \"표본수\" - \"product_code 수\"\n",
    "# MSR = SSR / dof1, MSE = SSE / dof2\n",
    "\n",
    "from scipy.stats import f\n",
    "dof1 = df_prob2['product_code'].nunique() - 1\n",
    "dof2 = len(df_prob2) - df_prob2['product_code'].nunique()\n",
    "\n",
    "# SST = SSR + SSE.  표본분산 = SST / (n - 1)\n",
    "# n - 1 = dof1 + dof2\n",
    "# SSR은 (예측값(수준별 평균) - 평균) ** 2의 합입니다.\n",
    "mean_ = df_prob2['loading_log'].mean()\n",
    "SSR = ((df_prob2.groupby('product_code')['loading_log'].transform('mean') - mean_) ** 2).sum()\n",
    "\n",
    "# SSE는 (예측값(수준별 평균) - 실제값) ** 2의 합입니다.\n",
    "SSE = ((df_prob2.groupby('product_code')['loading_log'].transform('mean') - df_prob2['loading_log']) ** 2).sum()\n",
    "\n",
    "MSR = SSR / dof1\n",
    "MSE = SSE / dof2\n",
    "\n",
    "F = MSR / MSE\n",
    "\n",
    "F, 1 - f.cdf(F, dof1, dof2), f.sf(F, dof1, dof2)"
   ]
  },
  {
   "cell_type": "markdown",
   "id": "b3c23d2c",
   "metadata": {},
   "source": [
    "## 단계 2-6\n",
    "\n",
    "카이제곱검정을 통해 attribute_0, attribute_1의 결합값이 failure와 연관이 있는지 조사하라. \n",
    "\n",
    "attribute_0, attribute_1의 결합값의 의미 attribute_0=material_7, attribute_1=material_8 이라면, 이 둘의 결합값은\n",
    "matertial_7material_8를 의미한다.\n",
    "\n",
    "(유의 수준 1%) 연관이 있다면 E값은 1 없으면 0으로 한다.\n",
    "\n",
    "---\n",
    "\n",
    "**함수 가이드**\n",
    "\n",
    " scipy.stats.chi2_contingency, correction=False\n",
    " \n",
    " 문제 지시사항 외 Default 값 사용\n",
    " \n",
    "---\n"
   ]
  },
  {
   "cell_type": "code",
   "execution_count": 143,
   "id": "8b3530be",
   "metadata": {},
   "outputs": [
    {
     "data": {
      "text/plain": [
       "((7.0400463075335615,\n",
       "  0.029598749837407304,\n",
       "  2,\n",
       "  array([[4106.03584702, 1102.96415298],\n",
       "         [4162.79042198, 1118.20957802],\n",
       "         [8487.17373101, 2279.82626899]])),\n",
       " 0)"
      ]
     },
     "execution_count": 143,
     "metadata": {},
     "output_type": "execute_result"
    }
   ],
   "source": [
    "from scipy.stats import chi2_contingency\n",
    "\n",
    "result_2_6 = chi2_contingency(\n",
    "    pd.crosstab( # pd.crosstab을 통해 빈도수 테이블을 만듭니다.\n",
    "        index=df_prob2['attribute_0'] + df_prob2['attribute_1'],\n",
    "        columns=df_prob2['failure']\n",
    "    ), correction=False\n",
    ")\n",
    "# H0: 독립 -> 연관 x\n",
    "# H1: 독립 x -> 연관 o\n",
    "E = 0 if result_2_6[1] >= 0.01 else 1\n",
    "result_2_6, E"
   ]
  },
  {
   "cell_type": "markdown",
   "id": "6e20ffed",
   "metadata": {},
   "source": [
    "**Tip!** $Chi^2$ 검정도 직접해봅니다.\n",
    "\n",
    "$chi2 = \\sum_{i,j}\\frac{(E_{ij} - O_{ij})^2}{E_{ij}}$"
   ]
  },
  {
   "cell_type": "code",
   "execution_count": 144,
   "id": "dd034036",
   "metadata": {},
   "outputs": [
    {
     "data": {
      "text/plain": [
       "(7.040046307533586, 0.029598749837406957)"
      ]
     },
     "execution_count": 144,
     "metadata": {},
     "output_type": "execute_result"
    }
   ],
   "source": [
    "from scipy.stats import chi2\n",
    "\n",
    "# 직접하기 위해서는 예측 빈도수 테이블이 필요합니다.\n",
    "# index에 해당하는 변수의 빈도수와\n",
    "# column에 해당하는 변수의 비율(value_counts(normalize=True))을 행렬곱을 하면 구할 수 있습니다.\n",
    "# pandas의 행렬곱은 dot에서 제공되고 있으면, caller의 열이름과 callee의 인덱스를 기준으로 연산을 합니다. \n",
    "# 이를 일치시켜 주기위해 rename('val')을 해줍니다.\n",
    "df_E = (df_prob2['attribute_0'] + df_prob2['attribute_1']).value_counts(normalize=True).rename('val').to_frame().dot(\n",
    "    df_prob2['failure'].value_counts().rename('val').to_frame().T\n",
    ")\n",
    "df_O = pd.crosstab(\n",
    "    index=df_prob2['attribute_0'] + df_prob2['attribute_1'],\n",
    "    columns=df_prob2['failure']\n",
    ")\n",
    "CHI2 = ((df_E - df_O) ** 2 / df_E).sum().sum()\n",
    "dof = ((df_prob2['attribute_0'] + df_prob2['attribute_1']).nunique() - 1) * (df_prob2['failure'].nunique() - 1)\n",
    "CHI2, 1 - chi2.cdf(CHI2, dof)"
   ]
  },
  {
   "cell_type": "code",
   "execution_count": 146,
   "id": "4a683ae5",
   "metadata": {},
   "outputs": [
    {
     "data": {
      "text/plain": [
       "(3, 0.5873433093297675, 0.7733782072320899, 0, 4.360721516561858, 4.36)"
      ]
     },
     "execution_count": 146,
     "metadata": {},
     "output_type": "execute_result"
    }
   ],
   "source": [
    "B, C, D, E, B + C + D + E, round(B + C + D + E, 2)"
   ]
  },
  {
   "cell_type": "markdown",
   "id": "af42805f",
   "metadata": {},
   "source": [
    "B + C + D + E의 값을 소수점 셋째 자리에서 반올림하여 둘째 자리까지 출력하시오.\n",
    "\n",
    "**4.36**"
   ]
  },
  {
   "cell_type": "markdown",
   "id": "e3fe1afc",
   "metadata": {},
   "source": [
    "# 문제 3\n",
    "\n",
    "로지스틱 회귀모델로 수치형 변수 measurement_0 ~ 17, \n",
    "\n",
    "loading과 이진형인 na_1, na_2 중에서 최적의 성능을 보이는 입력 변수들을 찾고자 한다.\n"
   ]
  },
  {
   "cell_type": "code",
   "execution_count": null,
   "id": "17a63c49",
   "metadata": {},
   "outputs": [],
   "source": []
  },
  {
   "cell_type": "markdown",
   "id": "a1ec19e2",
   "metadata": {},
   "source": [
    "## 단계 3-1\n",
    "\n",
    "prob1을 복사하여 prob3을 만든다. loading의 결측치는 loading의 평균으로 대치한다.  "
   ]
  },
  {
   "cell_type": "code",
   "execution_count": 160,
   "id": "74e376a6",
   "metadata": {},
   "outputs": [
    {
     "data": {
      "text/plain": [
       "0"
      ]
     },
     "execution_count": 160,
     "metadata": {},
     "output_type": "execute_result"
    }
   ],
   "source": [
    "df_prob3 = df_prob1.assign(\n",
    "    loading = lambda x: x['loading'].fillna(x['loading'].mean())\n",
    ")\n",
    "df_prob3.isna().sum().sum()"
   ]
  },
  {
   "cell_type": "markdown",
   "id": "61eb5594",
   "metadata": {},
   "source": [
    "## 단계 3-2: \n",
    "    \n",
    "prob3를 80%는 학습데이터 prob3_train으로 20%는 테스트데이터 prob3_test로 나눈다. \n",
    "\n",
    "prob3_train의 failure가 1인 비율과 prob3_test의 failure가 1의 비율을 동일하게 한다.\n",
    "\n",
    "\n",
    "---\n",
    "\n",
    "**함수 가이드**\n",
    "\n",
    " sklearn.model_selection.train_test_split, random_state=123, \n",
    " \n",
    " train과 test의 failure의 비율은 stratify 매개 변수를 이용하여 맞춘다.\n",
    " \n",
    " 문제 지시사항 외 Default 값 사용\n",
    " \n",
    "---"
   ]
  },
  {
   "cell_type": "code",
   "execution_count": 161,
   "id": "7b58d9c8",
   "metadata": {},
   "outputs": [],
   "source": [
    "from sklearn.model_selection import train_test_split\n",
    "\n",
    "# stratify에 비율을 맞추고자 하는 변수(pd.Series, np.array ... )를 넣어주면 층화 분리를 합니다.\n",
    "df_prob3_train, df_prob3_test = train_test_split(\n",
    "    df_prob3, train_size=0.8, stratify=df_prob3['failure'], random_state=123\n",
    ")\n",
    "\n",
    "# 시험장 버젼의 train_test_split 는 reference 상태인 DataFrame을 넘겨줍니다.\n",
    "# .copy()를 통해 수정에도 문제가 없도록 합니다.\n",
    "df_prob3_train, df_prob3_test = df_prob3_train.copy(), df_prob3_test.copy()"
   ]
  },
  {
   "cell_type": "markdown",
   "id": "e7716c3a",
   "metadata": {},
   "source": [
    "## 단계 3-3\n",
    "\n",
    "prob3_train의 수치형 입력 변수 loading, measurement_0 ~ 17을 표준화한다. \n",
    "\n",
    "prob3_train의 표준화 설정으로 prob3_test의 loading, measurement_0 ~ 17에도 적용한다. \n",
    "\n",
    "표준화 처리한 prob3_train과 prob3_test는 문제 4와 문제 5에서 사용한다.\n",
    "\n",
    "\n",
    "---\n",
    "\n",
    "**함수 가이드**\n",
    "\n",
    " sklearn.preprocessing 제공 기능 활용, \n",
    " \n",
    " 문제 지시사항 외 Default 값 사용\n",
    " \n",
    "---\n"
   ]
  },
  {
   "cell_type": "code",
   "execution_count": 163,
   "id": "bf17f958",
   "metadata": {},
   "outputs": [],
   "source": [
    "from sklearn.preprocessing import StandardScaler\n",
    "X_std = ['loading'] + ['measurement_{}'.format(i) for i in range(18)]\n",
    "std_scaler = StandardScaler()\n",
    "df_prob3_train[X_std] = std_scaler.fit_transform(df_prob3_train[X_std])\n",
    "df_prob3_test[X_std] = std_scaler.transform(df_prob3_test[X_std])"
   ]
  },
  {
   "cell_type": "code",
   "execution_count": 164,
   "id": "9b8f6186",
   "metadata": {},
   "outputs": [
    {
     "data": {
      "text/html": [
       "<div>\n",
       "<style scoped>\n",
       "    .dataframe tbody tr th:only-of-type {\n",
       "        vertical-align: middle;\n",
       "    }\n",
       "\n",
       "    .dataframe tbody tr th {\n",
       "        vertical-align: top;\n",
       "    }\n",
       "\n",
       "    .dataframe thead th {\n",
       "        text-align: right;\n",
       "    }\n",
       "</style>\n",
       "<table border=\"1\" class=\"dataframe\">\n",
       "  <thead>\n",
       "    <tr style=\"text-align: right;\">\n",
       "      <th></th>\n",
       "      <th>loading</th>\n",
       "      <th>measurement_0</th>\n",
       "      <th>measurement_1</th>\n",
       "      <th>measurement_2</th>\n",
       "      <th>measurement_3</th>\n",
       "      <th>measurement_4</th>\n",
       "      <th>measurement_5</th>\n",
       "      <th>measurement_6</th>\n",
       "      <th>measurement_7</th>\n",
       "      <th>measurement_8</th>\n",
       "      <th>measurement_9</th>\n",
       "      <th>measurement_10</th>\n",
       "      <th>measurement_11</th>\n",
       "      <th>measurement_12</th>\n",
       "      <th>measurement_13</th>\n",
       "      <th>measurement_14</th>\n",
       "      <th>measurement_15</th>\n",
       "      <th>measurement_16</th>\n",
       "      <th>measurement_17</th>\n",
       "    </tr>\n",
       "  </thead>\n",
       "  <tbody>\n",
       "    <tr>\n",
       "      <td>mean</td>\n",
       "      <td>2.139989e-16</td>\n",
       "      <td>-8.920072e-17</td>\n",
       "      <td>-1.080343e-16</td>\n",
       "      <td>-6.871146e-17</td>\n",
       "      <td>2.076245e-15</td>\n",
       "      <td>4.730122e-16</td>\n",
       "      <td>1.432593e-15</td>\n",
       "      <td>-2.142059e-16</td>\n",
       "      <td>-6.689019e-16</td>\n",
       "      <td>-2.198767e-15</td>\n",
       "      <td>-1.998841e-15</td>\n",
       "      <td>4.199264e-16</td>\n",
       "      <td>-4.522125e-16</td>\n",
       "      <td>-1.540420e-15</td>\n",
       "      <td>5.955338e-17</td>\n",
       "      <td>-4.079433e-15</td>\n",
       "      <td>2.599446e-16</td>\n",
       "      <td>5.746306e-16</td>\n",
       "      <td>-4.008858e-16</td>\n",
       "    </tr>\n",
       "    <tr>\n",
       "      <td>std</td>\n",
       "      <td>1.000029e+00</td>\n",
       "      <td>1.000029e+00</td>\n",
       "      <td>1.000029e+00</td>\n",
       "      <td>1.000029e+00</td>\n",
       "      <td>1.000029e+00</td>\n",
       "      <td>1.000029e+00</td>\n",
       "      <td>1.000029e+00</td>\n",
       "      <td>1.000029e+00</td>\n",
       "      <td>1.000029e+00</td>\n",
       "      <td>1.000029e+00</td>\n",
       "      <td>1.000029e+00</td>\n",
       "      <td>1.000029e+00</td>\n",
       "      <td>1.000029e+00</td>\n",
       "      <td>1.000029e+00</td>\n",
       "      <td>1.000029e+00</td>\n",
       "      <td>1.000029e+00</td>\n",
       "      <td>1.000029e+00</td>\n",
       "      <td>1.000029e+00</td>\n",
       "      <td>1.000029e+00</td>\n",
       "    </tr>\n",
       "  </tbody>\n",
       "</table>\n",
       "</div>"
      ],
      "text/plain": [
       "           loading  measurement_0  measurement_1  measurement_2  \\\n",
       "mean  2.139989e-16  -8.920072e-17  -1.080343e-16  -6.871146e-17   \n",
       "std   1.000029e+00   1.000029e+00   1.000029e+00   1.000029e+00   \n",
       "\n",
       "      measurement_3  measurement_4  measurement_5  measurement_6  \\\n",
       "mean   2.076245e-15   4.730122e-16   1.432593e-15  -2.142059e-16   \n",
       "std    1.000029e+00   1.000029e+00   1.000029e+00   1.000029e+00   \n",
       "\n",
       "      measurement_7  measurement_8  measurement_9  measurement_10  \\\n",
       "mean  -6.689019e-16  -2.198767e-15  -1.998841e-15    4.199264e-16   \n",
       "std    1.000029e+00   1.000029e+00   1.000029e+00    1.000029e+00   \n",
       "\n",
       "      measurement_11  measurement_12  measurement_13  measurement_14  \\\n",
       "mean   -4.522125e-16   -1.540420e-15    5.955338e-17   -4.079433e-15   \n",
       "std     1.000029e+00    1.000029e+00    1.000029e+00    1.000029e+00   \n",
       "\n",
       "      measurement_15  measurement_16  measurement_17  \n",
       "mean    2.599446e-16    5.746306e-16   -4.008858e-16  \n",
       "std     1.000029e+00    1.000029e+00    1.000029e+00  "
      ]
     },
     "metadata": {},
     "output_type": "display_data"
    },
    {
     "data": {
      "text/html": [
       "<div>\n",
       "<style scoped>\n",
       "    .dataframe tbody tr th:only-of-type {\n",
       "        vertical-align: middle;\n",
       "    }\n",
       "\n",
       "    .dataframe tbody tr th {\n",
       "        vertical-align: top;\n",
       "    }\n",
       "\n",
       "    .dataframe thead th {\n",
       "        text-align: right;\n",
       "    }\n",
       "</style>\n",
       "<table border=\"1\" class=\"dataframe\">\n",
       "  <thead>\n",
       "    <tr style=\"text-align: right;\">\n",
       "      <th></th>\n",
       "      <th>loading</th>\n",
       "      <th>measurement_0</th>\n",
       "      <th>measurement_1</th>\n",
       "      <th>measurement_2</th>\n",
       "      <th>measurement_3</th>\n",
       "      <th>measurement_4</th>\n",
       "      <th>measurement_5</th>\n",
       "      <th>measurement_6</th>\n",
       "      <th>measurement_7</th>\n",
       "      <th>measurement_8</th>\n",
       "      <th>measurement_9</th>\n",
       "      <th>measurement_10</th>\n",
       "      <th>measurement_11</th>\n",
       "      <th>measurement_12</th>\n",
       "      <th>measurement_13</th>\n",
       "      <th>measurement_14</th>\n",
       "      <th>measurement_15</th>\n",
       "      <th>measurement_16</th>\n",
       "      <th>measurement_17</th>\n",
       "    </tr>\n",
       "  </thead>\n",
       "  <tbody>\n",
       "    <tr>\n",
       "      <td>mean</td>\n",
       "      <td>-0.012128</td>\n",
       "      <td>0.002899</td>\n",
       "      <td>-0.018824</td>\n",
       "      <td>0.026778</td>\n",
       "      <td>0.008819</td>\n",
       "      <td>0.004858</td>\n",
       "      <td>0.017221</td>\n",
       "      <td>-0.008580</td>\n",
       "      <td>-0.013296</td>\n",
       "      <td>-0.001396</td>\n",
       "      <td>0.022965</td>\n",
       "      <td>-0.003753</td>\n",
       "      <td>-0.000548</td>\n",
       "      <td>0.025345</td>\n",
       "      <td>0.010671</td>\n",
       "      <td>0.016924</td>\n",
       "      <td>-0.001131</td>\n",
       "      <td>0.044992</td>\n",
       "      <td>0.011926</td>\n",
       "    </tr>\n",
       "    <tr>\n",
       "      <td>std</td>\n",
       "      <td>0.988545</td>\n",
       "      <td>1.017625</td>\n",
       "      <td>0.978095</td>\n",
       "      <td>1.015628</td>\n",
       "      <td>1.011319</td>\n",
       "      <td>0.986469</td>\n",
       "      <td>0.982998</td>\n",
       "      <td>0.995606</td>\n",
       "      <td>0.982849</td>\n",
       "      <td>1.000750</td>\n",
       "      <td>1.020788</td>\n",
       "      <td>1.021548</td>\n",
       "      <td>0.992102</td>\n",
       "      <td>0.993806</td>\n",
       "      <td>0.998137</td>\n",
       "      <td>1.005824</td>\n",
       "      <td>0.991199</td>\n",
       "      <td>0.999155</td>\n",
       "      <td>0.999505</td>\n",
       "    </tr>\n",
       "  </tbody>\n",
       "</table>\n",
       "</div>"
      ],
      "text/plain": [
       "       loading  measurement_0  measurement_1  measurement_2  measurement_3  \\\n",
       "mean -0.012128       0.002899      -0.018824       0.026778       0.008819   \n",
       "std   0.988545       1.017625       0.978095       1.015628       1.011319   \n",
       "\n",
       "      measurement_4  measurement_5  measurement_6  measurement_7  \\\n",
       "mean       0.004858       0.017221      -0.008580      -0.013296   \n",
       "std        0.986469       0.982998       0.995606       0.982849   \n",
       "\n",
       "      measurement_8  measurement_9  measurement_10  measurement_11  \\\n",
       "mean      -0.001396       0.022965       -0.003753       -0.000548   \n",
       "std        1.000750       1.020788        1.021548        0.992102   \n",
       "\n",
       "      measurement_12  measurement_13  measurement_14  measurement_15  \\\n",
       "mean        0.025345        0.010671        0.016924       -0.001131   \n",
       "std         0.993806        0.998137        1.005824        0.991199   \n",
       "\n",
       "      measurement_16  measurement_17  \n",
       "mean        0.044992        0.011926  \n",
       "std         0.999155        0.999505  "
      ]
     },
     "metadata": {},
     "output_type": "display_data"
    }
   ],
   "source": [
    "display(df_prob3_train[X_std].agg(['mean', 'std']))\n",
    "display(df_prob3_test[X_std].agg(['mean', 'std']))"
   ]
  },
  {
   "cell_type": "markdown",
   "id": "b20b6ef8",
   "metadata": {},
   "source": [
    "## 단계 3-4\n",
    "    \n",
    "로지스틱 회귀모델을 사용하여 loading, measurement_0~17과 na_1, na_2를 입력 변수로 하여 prob3_train을 학습한다. \n",
    "\n",
    "로지스틱 회귀모델을 prob3_test로 성능을 측정한 값을 A라고 한다.\n",
    "\n",
    "입력 변수: loading, measurement_0~17, na_1, na_2\n",
    "\n",
    "대상 변수: failure\n",
    "\n",
    "성능 지표: AUC(area under of ROC curve)\n",
    "\n",
    "---\n",
    "\n",
    "**함수 가이드**\n",
    "\n",
    " sklearn.linear_model.LogisticRegression, solver='lbfgs', 문제 지시사항 외 Default 값 사용\n",
    " \n",
    " sklearn.metrics.roc_auc_score\n",
    " \n",
    "---"
   ]
  },
  {
   "cell_type": "code",
   "execution_count": 166,
   "id": "fb86e3fd",
   "metadata": {},
   "outputs": [
    {
     "data": {
      "text/plain": [
       "LogisticRegression(C=1.0, class_weight=None, dual=False, fit_intercept=True,\n",
       "                   intercept_scaling=1, l1_ratio=None, max_iter=100,\n",
       "                   multi_class='warn', n_jobs=None, penalty='l2',\n",
       "                   random_state=None, solver='lbfgs', tol=0.0001, verbose=0,\n",
       "                   warm_start=False)"
      ]
     },
     "execution_count": 166,
     "metadata": {},
     "output_type": "execute_result"
    }
   ],
   "source": [
    "from sklearn.linear_model import LogisticRegression\n",
    "\n",
    "clf_lr = LogisticRegression(solver='lbfgs')\n",
    "X_lr = ['loading'] + ['measurement_{}'.format(i) for i in range(18)] + ['na_1', 'na_2']\n",
    "clf_lr.fit(df_prob3_train[X_lr], df_prob3_train['failure'])"
   ]
  },
  {
   "cell_type": "code",
   "execution_count": 172,
   "id": "47d5449a",
   "metadata": {},
   "outputs": [
    {
     "data": {
      "text/plain": [
       "0.5792951262053387"
      ]
     },
     "execution_count": 172,
     "metadata": {},
     "output_type": "execute_result"
    }
   ],
   "source": [
    "# roc_auc는 순위기반의 지표입니다. positive의 정도를 나타내는 수치(예측 결과)를 넘겨줍니다. \n",
    "from sklearn.metrics import roc_auc_score\n",
    "\n",
    "# Positive 정도를 나타내는 수치로 Positive Class일 확률을 넘깁니다.\n",
    "roc_auc_score(\n",
    "    df_prob3_test['failure'],\n",
    "    clf_lr.predict_proba(df_prob3_test[X_lr])[:, 1]\n",
    ")"
   ]
  },
  {
   "cell_type": "code",
   "execution_count": 181,
   "id": "7de37f3b",
   "metadata": {},
   "outputs": [
    {
     "data": {
      "text/plain": [
       "(0.5792951262053387, 0.5952982435574312)"
      ]
     },
     "execution_count": 181,
     "metadata": {},
     "output_type": "execute_result"
    }
   ],
   "source": [
    "# Logistic Regression에서의 decision_function은 Logit을 반환합니다. 이를 이용해도 Positive확률과 똑같은 roc_auc를 얻을 수 있습니다,\n",
    "# from scipy.special import expit  # <=== Logistic 함수입니다.\n",
    "# 참고: Positive 확률 = expit(clf_lr.decision_function(df_prob3_test[X_lr]))\n",
    "A = roc_auc_score(df_prob3_test['failure'],clf_lr.decision_function(df_prob3_test[X_lr]))\n",
    "(\n",
    "    A, \n",
    "    roc_auc_score(df_prob3_train['failure'],clf_lr.decision_function(df_prob3_train[X_lr]))\n",
    ")"
   ]
  },
  {
   "cell_type": "code",
   "execution_count": 185,
   "id": "b2a14ada",
   "metadata": {},
   "outputs": [
    {
     "data": {
      "text/plain": [
       "(0.5778277926972065, 0.5886355699157924)"
      ]
     },
     "execution_count": 185,
     "metadata": {},
     "output_type": "execute_result"
    }
   ],
   "source": [
    "(\n",
    "    roc_auc_score(df_prob3_test['failure'], df_prob3_test['loading']),\n",
    "    roc_auc_score(df_prob3_train['failure'], df_prob3_train['loading'])\n",
    ")"
   ]
  },
  {
   "cell_type": "code",
   "execution_count": 180,
   "id": "c9bfb719",
   "metadata": {},
   "outputs": [
    {
     "data": {
      "text/plain": [
       "0.5792951262053387"
      ]
     },
     "execution_count": 180,
     "metadata": {},
     "output_type": "execute_result"
    }
   ],
   "source": [
    "# ROC AUC의 실제 값을 구해봅니다. \n",
    "df_prob3_test[['failure']].assign(\n",
    "    score = clf_lr.decision_function(df_prob3_test[X_lr])\n",
    ").sort_values('score', ascending=False).assign(\n",
    "    fpr=lambda x: (1 - x['failure']).cumsum() / (1 - x['failure']).sum(),\n",
    "    tpr=lambda x: (x['failure']).cumsum() / ( x['failure']).sum(),\n",
    ").assign(\n",
    "    fpr_1 = lambda x: x['fpr'].shift(1).fillna(0)\n",
    ").assign(\n",
    "    sq = lambda x: (x['fpr'] - x['fpr_1']) * x['tpr']\n",
    ")['sq'].sum()"
   ]
  },
  {
   "cell_type": "code",
   "execution_count": 179,
   "id": "394dfa72",
   "metadata": {},
   "outputs": [
    {
     "data": {
      "image/png": "[encoded data removed]",
      "text/plain": [
       "<Figure size 600x500 with 1 Axes>"
      ]
     },
     "metadata": {},
     "output_type": "display_data"
    }
   ],
   "source": [
    "# ROC AUC를 그려봅니다.\n",
    "plt.figure(figsize=(6, 5))\n",
    "plt.plot([0, 1], [0, 1], color='orange', linestyle='--')\n",
    "df_prob3_test[['failure']].assign(\n",
    "    score = clf_lr.decision_function(df_prob3_test[X_lr])\n",
    ").sort_values('score', ascending=False).assign(\n",
    "    fpr=lambda x: (1-x['failure']).cumsum() / (1 - x['failure']).sum(),\n",
    "    tpr=lambda x: (x['failure']).cumsum() / ( x['failure']).sum(),\n",
    ").pipe(\n",
    "    lambda x: plt.plot(x['fpr'], x['tpr'])\n",
    ")\n",
    "plt.show()"
   ]
  },
  {
   "cell_type": "markdown",
   "id": "7cba372a",
   "metadata": {},
   "source": [
    "## 단계 3-5\n",
    "\n",
    "loading, measurement_0 ~ 17, na_1, na_2를 후보 입력 변수로 한다. \n",
    "\n",
    "전진 선택법을 사용하여 이 후보 입력 변수 중에서 최적의 성능을 보이는 입력 변수의 조합을 찾는다. \n",
    "\n",
    "전진 선택법의 선택 기준은 prob3_train을 대상으로 5겹 층화교차검증(5-Fold stratified cross validation)을 하고 \n",
    "\n",
    "겹외(OOF, Out-Of Fold) 성능의 평균값으로 한다. 전진 선택 과정에서 선택했던 변수를 제외하지 않는다. \n",
    "\n",
    "입력 변수: 본 단계 요건 참고\n",
    "\n",
    "대상 변수: failure \n",
    "\n",
    "성능 지표: AUC(area under of ROC curve)\n",
    "\n",
    "---\n",
    "**함수가이드**\n",
    "\n",
    "mlxtend.feature_selection.SequentialFeatureSelector\n",
    "\n",
    "sklearn.linear_model.LogisticRegression, solver='lbfgs'\n",
    "\n",
    "sklearn.metrics.roc_auc_score\n",
    "\n",
    "sklearn.model_selection.StratifiedKFold, random_state=123, shuffle=True\n",
    "\n",
    "문제 지시사항 외 Default 값 사용\n",
    "\n",
    "---"
   ]
  },
  {
   "cell_type": "code",
   "execution_count": 188,
   "id": "9713233f",
   "metadata": {},
   "outputs": [
    {
     "data": {
      "text/plain": [
       "SequentialFeatureSelector(clone_estimator=True,\n",
       "                          cv=StratifiedKFold(n_splits=5, random_state=123, shuffle=True),\n",
       "                          estimator=LogisticRegression(C=1.0, class_weight=None,\n",
       "                                                       dual=False,\n",
       "                                                       fit_intercept=True,\n",
       "                                                       intercept_scaling=1,\n",
       "                                                       l1_ratio=None,\n",
       "                                                       max_iter=100,\n",
       "                                                       multi_class='warn',\n",
       "                                                       n_jobs=None,\n",
       "                                                       penalty='l2',\n",
       "                                                       random_state=None,\n",
       "                                                       solver='lbfgs',\n",
       "                                                       tol=0.0001, verbose=0,\n",
       "                                                       warm_start=False),\n",
       "                          floating=False, forward=True, k_features='best',\n",
       "                          n_jobs=1, pre_dispatch='2*n_jobs', scoring='roc_auc',\n",
       "                          verbose=0)"
      ]
     },
     "execution_count": 188,
     "metadata": {},
     "output_type": "execute_result"
    }
   ],
   "source": [
    "from mlxtend.feature_selection import SequentialFeatureSelector\n",
    "from sklearn.linear_model import LogisticRegression\n",
    "from sklearn.model_selection import StratifiedKFold\n",
    "\n",
    "X_sfs = ['loading'] + ['measurement_{}'.format(i) for i in range(18)] + ['na_1', 'na_2']\n",
    "sfs = SequentialFeatureSelector(\n",
    "    estimator = LogisticRegression(solver='lbfgs'), \n",
    "    forward = True, # 전진 선택법을 사용하여 이 후보 입력 변수 중에서 \n",
    "    k_features = 'best', # 최적의 성능을 보이는 입력 변수의 조합을 찾는다\n",
    "    floating = False, # 전진 선택 과정에서 선택했던 변수를 제외하지 않는다\n",
    "    scoring = 'roc_auc', \n",
    "    cv = StratifiedKFold(n_splits=5, random_state=123, shuffle=True) # 5겹 층화교차검증(5-Fold stratified cross validation)\n",
    ")\n",
    "sfs.fit(df_prob3_train[X_sfs], df_prob3_train['failure'])"
   ]
  },
  {
   "cell_type": "code",
   "execution_count": 197,
   "id": "47c2e7b7",
   "metadata": {},
   "outputs": [
    {
     "data": {
      "text/plain": [
       "['loading',\n",
       " 'measurement_1',\n",
       " 'measurement_4',\n",
       " 'measurement_14',\n",
       " 'measurement_17',\n",
       " 'na_1']"
      ]
     },
     "execution_count": 197,
     "metadata": {},
     "output_type": "execute_result"
    }
   ],
   "source": [
    "X_sfs_best = sfs.k_feature_names_ #, sfs.subsets_\n",
    "X_sfs_best = list(X_best)\n",
    "X_sfs_best"
   ]
  },
  {
   "cell_type": "markdown",
   "id": "2e7c6893",
   "metadata": {},
   "source": [
    "## 단계 3-6\n",
    "\n",
    "단계 3-5에서 찾은 최적의 입력 변수 조합으로 로지스틱 회귀모델을 사용하여 prob3_train을 학습하고 \n",
    "\n",
    "prob3_test로 성능을 측정한 값을 B라고 한다.\n",
    "\n",
    "입력 변수: **단계 3-5**에서 도출한 최적의 입력 변수 조합\n",
    "\n",
    "대상 변수: failure\n",
    "\n",
    "성능 지표: AUC(area under of ROC curve)\n",
    "\n",
    "---\n",
    "**함수 가이드**\n",
    "\n",
    "sklearn.linear_model.LogisticRegression, solver='lbfgs'\n",
    "\n",
    "sklearn.metrics.roc_auc_score\n",
    "\n",
    "문제 지시사항 외 Default 값 사용\n",
    "\n",
    "---"
   ]
  },
  {
   "cell_type": "code",
   "execution_count": 198,
   "id": "8d96e152",
   "metadata": {},
   "outputs": [
    {
     "data": {
      "text/plain": [
       "(0.5838326230092876, 0.5936682060775388)"
      ]
     },
     "execution_count": 198,
     "metadata": {},
     "output_type": "execute_result"
    }
   ],
   "source": [
    "from sklearn.linear_model import LogisticRegression\n",
    "\n",
    "clf_lr = LogisticRegression(solver='lbfgs')\n",
    "clf_lr.fit(df_prob3_train[X_sfs_best], df_prob3_train['failure'])\n",
    "B = roc_auc_score(df_prob3_test['failure'],clf_lr.decision_function(df_prob3_test[X_sfs_best]))\n",
    "(\n",
    "    B, \n",
    "    roc_auc_score(df_prob3_train['failure'],clf_lr.decision_function(df_prob3_train[X_sfs_best]))\n",
    ")"
   ]
  },
  {
   "cell_type": "code",
   "execution_count": 199,
   "id": "08dbb95e",
   "metadata": {},
   "outputs": [
    {
     "data": {
      "text/plain": [
       "(0.5792951262053387, 0.5838326230092876, -0.004537496803948882, -0.005)"
      ]
     },
     "execution_count": 199,
     "metadata": {},
     "output_type": "execute_result"
    }
   ],
   "source": [
    "A, B, A - B, round(A - B, 3)"
   ]
  },
  {
   "cell_type": "markdown",
   "id": "fac40eec",
   "metadata": {},
   "source": [
    "A-B값을 소수점 넷째 자리에서 반올림하여 셋째 자리까지 출력하시오\n",
    "\n",
    "**-0.005**"
   ]
  },
  {
   "cell_type": "markdown",
   "id": "4ed67461",
   "metadata": {},
   "source": [
    "# 문제 4\n",
    "\n",
    "차원 축소 기법을 통한 데이터의 특성과 failure 분류 성능을 높힐 만한 요소를 살펴 본다. \n",
    "\n",
    "첫째로, loading을 제외하고, measurement_0 ~ 17을 입력으로 failure를 대상 변수로 Linear Discrimant Analysis(LDA) 모델을 만든다. \n",
    "\n",
    "True/False 이진 변수인 failure를 분류한다는 점에서 LDA 모델은 measurement_0 ~ 17를 한 개의 경계점으로 \n",
    "\n",
    "failure를 최대한 정확하게 구분하도록 하나의 연속형 변수로 변환한다. \n",
    "\n",
    "스프링의 내구력이 높을 수록 failure 확률이 낮아진다면, \n",
    "\n",
    "측정값 measurement_0 ~ 17의 LDA 변환값은 스프링의 내구력을 나타낸다라고 할 수 있다.\n",
    "\n",
    "실험에서 스프링에 가한 부하(loading)와  LDA 변환값의 상관도를 측정하여, \n",
    "\n",
    "측정값 measurement_0~17 에서 예상되는 내구력이 스프링에 따라 부하(loading)의 반영 정도를 가늠한다.\n",
    "\n",
    "둘째로, PCA를 사용하여 차원 감소로 failure 분류 성능에 얼마나 효과가 있을지 살펴본다.\n",
    "\n",
    "문제3에서 사용했던, 전처리(loading 결측치 처리와 표준화 과정을 거친) 과정을 거친 prob3_train과 prob3_test를 사용한다.\n"
   ]
  },
  {
   "cell_type": "code",
   "execution_count": null,
   "id": "05ee8e76",
   "metadata": {},
   "outputs": [],
   "source": [
    " "
   ]
  },
  {
   "cell_type": "markdown",
   "id": "3579a749",
   "metadata": {},
   "source": [
    "## 단계 4-1\n",
    "\n",
    "prob3_train에서 measurement_0 ~ 17을 입력으로 failure를 대상 변수로 하여 LDA(Linear Discriminant Analysis) 모델을 학습한다. \n",
    "\n",
    "measurement_0 ~ 17에 대한 prob3_train에서의 LDA의 변환값과 loading과 스피어만 상관도 (spearman correlation)의 p-value를 구하여 A라고 한다.\n",
    "\n",
    "입력 변수] measurement_0 ~ 17 (순서에 유의 하시오)\n",
    "\n",
    "대상 변수] failure\n",
    "\n",
    "---\n",
    "**함수가이드**\n",
    "\n",
    "sklearn.discriminant_analysis 제공 기능 활용\n",
    "\n",
    "scipy.stats.spearmanr\n",
    "\n",
    "문제 지시사항 외 Default 값 사용\n",
    "\n",
    "---"
   ]
  },
  {
   "cell_type": "code",
   "execution_count": 202,
   "id": "b6bbc9a0",
   "metadata": {},
   "outputs": [
    {
     "data": {
      "text/plain": [
       "LinearDiscriminantAnalysis(n_components=None, priors=None, shrinkage=None,\n",
       "                           solver='svd', store_covariance=False, tol=0.0001)"
      ]
     },
     "execution_count": 202,
     "metadata": {},
     "output_type": "execute_result"
    }
   ],
   "source": [
    "from sklearn.discriminant_analysis import LinearDiscriminantAnalysis\n",
    "\n",
    "lda = LinearDiscriminantAnalysis()\n",
    "X_lda = ['measurement_{}'.format(i) for i in range(18)]\n",
    "lda.fit(df_prob3_train[X_lda], df_prob3_train['failure'])"
   ]
  },
  {
   "cell_type": "code",
   "execution_count": 290,
   "id": "ad7fdabe",
   "metadata": {},
   "outputs": [
    {
     "data": {
      "image/png": "[encoded data removed]",
      "text/plain": [
       "<Figure size 640x480 with 1 Axes>"
      ]
     },
     "metadata": {},
     "output_type": "display_data"
    }
   ],
   "source": [
    "# failure별 LDA의 히스토그램을 그려봅니다.\n",
    "sns.histplot(x=lda.transform(df_prob3_train[X_lda])[:, 0], hue=df_prob3_train['failure'])\n",
    "plt.show()"
   ]
  },
  {
   "cell_type": "code",
   "execution_count": 289,
   "id": "bf779a53",
   "metadata": {},
   "outputs": [
    {
     "data": {
      "text/plain": [
       "(BartlettResult(statistic=3.2076454769167433, pvalue=0.07329488644377662),\n",
       " Ttest_indResult(statistic=-5.927378456131373, pvalue=3.1370243739954236e-09))"
      ]
     },
     "execution_count": 289,
     "metadata": {},
     "output_type": "execute_result"
    }
   ],
   "source": [
    "# 시각화를 통해서는 LDA를 통해나온 성분의 뚜렷한 분리력은 확인이 어렵습니다.\n",
    "# t-검정으로 가늠해보겠습니다.\n",
    "from scipy.stats import ttest_ind\n",
    "from scipy.stats import bartlett\n",
    "lda_comp1 = lda.transform(df_prob3_train[X_lda])[:, 0]\n",
    "lda_comp1_0 = lda_comp1[df_prob3_train['failure'] == 0]\n",
    "lda_comp1_1 = lda_comp1[df_prob3_train['failure'] == 1]\n",
    "# 정규분포를 따른다는 가정을 하겠습니다.\n",
    "result_bart = bartlett(lda_comp1_0, lda_comp1_1)\n",
    "result_ttest = ttest_ind(lda_comp1_0, lda_comp1_1, equal_var=result_bart.pvalue >= 0.05)\n",
    "result_bart, result_ttest"
   ]
  },
  {
   "cell_type": "code",
   "execution_count": 211,
   "id": "54f07f55",
   "metadata": {},
   "outputs": [
    {
     "data": {
      "text/plain": [
       "(0.6995009550811424,\n",
       " SpearmanrResult(correlation=0.0029462997112993335, pvalue=0.6995009550811424))"
      ]
     },
     "execution_count": 211,
     "metadata": {},
     "output_type": "execute_result"
    }
   ],
   "source": [
    "from scipy.stats import spearmanr\n",
    "result_4_1 = spearmanr(lda.transform(df_prob3_train[X_lda]), df_prob3_train['loading'])\n",
    "A = result_4_1.pvalue\n",
    "A, result_4_1"
   ]
  },
  {
   "cell_type": "markdown",
   "id": "1e726a4a",
   "metadata": {},
   "source": [
    "## 단계 4-2\n",
    "\n",
    "prob3_train에서 measurement_0 ~ 17을 대상으로 주성분분석(Principal Component Analysis, PCA) 모델을 학습한다. \n",
    "\n",
    "분산 설명율이 높은 순으로 주성분을 변수명을 pca_0 ~ 17하여 prob3_train에 추가하여 prob4_train을 만든다. \n",
    "\n",
    "prob3_test에 prob3_train를 학습했던 PCA 모델로 동일한 방법으로 pca_0 ~17 파생 변수를 추가하여 prob4_test를 만든다.\n",
    "\n",
    "입력 변수] measurement_0 ~ 17 (순서에 유의 하시오)\n",
    "\n",
    "---\n",
    "**함수가이드**\n",
    "\n",
    "sklearn.decomposition.PCA, random_state=123\n",
    "\n",
    "문제 지시사항 외 Default 값 사용\n",
    "\n",
    "---\n"
   ]
  },
  {
   "cell_type": "code",
   "execution_count": 250,
   "id": "2934c155",
   "metadata": {},
   "outputs": [
    {
     "data": {
      "text/plain": [
       "PCA(copy=True, iterated_power='auto', n_components=None, random_state=123,\n",
       "    svd_solver='auto', tol=0.0, whiten=False)"
      ]
     },
     "execution_count": 250,
     "metadata": {},
     "output_type": "execute_result"
    }
   ],
   "source": [
    "from sklearn.decomposition import PCA\n",
    "\n",
    "X_pca = ['measurement_{}'.format(i) for i in range(18)]\n",
    "pca = PCA(n_components=None, random_state=123)\n",
    "pca.fit(df_prob3_train[X_pca])"
   ]
  },
  {
   "cell_type": "code",
   "execution_count": 251,
   "id": "d8c9532f",
   "metadata": {},
   "outputs": [
    {
     "data": {
      "text/plain": [
       "array([1.85613793, 1.41894459, 1.25547315, 1.1632852 , 1.06637856,\n",
       "       1.05000212, 1.01995967, 1.00922255, 1.00657757, 0.99213623,\n",
       "       0.98552903, 0.97614082, 0.97170312, 0.87532548, 0.81399432,\n",
       "       0.70771288, 0.67969009, 0.15283534])"
      ]
     },
     "execution_count": 251,
     "metadata": {},
     "output_type": "execute_result"
    }
   ],
   "source": [
    "# explained_variance_ = COV matrix eigen values 입니다.\n",
    "pca.explained_variance_"
   ]
  },
  {
   "cell_type": "code",
   "execution_count": 291,
   "id": "7c03e00c",
   "metadata": {},
   "outputs": [
    {
     "data": {
      "text/html": [
       "<div>\n",
       "<style scoped>\n",
       "    .dataframe tbody tr th:only-of-type {\n",
       "        vertical-align: middle;\n",
       "    }\n",
       "\n",
       "    .dataframe tbody tr th {\n",
       "        vertical-align: top;\n",
       "    }\n",
       "\n",
       "    .dataframe thead th {\n",
       "        text-align: right;\n",
       "    }\n",
       "</style>\n",
       "<table border=\"1\" class=\"dataframe\">\n",
       "  <thead>\n",
       "    <tr style=\"text-align: right;\">\n",
       "      <th></th>\n",
       "      <th>measurement_0</th>\n",
       "      <th>measurement_1</th>\n",
       "      <th>measurement_2</th>\n",
       "      <th>measurement_3</th>\n",
       "      <th>measurement_4</th>\n",
       "      <th>measurement_5</th>\n",
       "      <th>measurement_6</th>\n",
       "      <th>measurement_7</th>\n",
       "      <th>measurement_8</th>\n",
       "      <th>measurement_9</th>\n",
       "      <th>measurement_10</th>\n",
       "      <th>measurement_11</th>\n",
       "      <th>measurement_12</th>\n",
       "      <th>measurement_13</th>\n",
       "      <th>measurement_14</th>\n",
       "      <th>measurement_15</th>\n",
       "      <th>measurement_16</th>\n",
       "      <th>measurement_17</th>\n",
       "    </tr>\n",
       "  </thead>\n",
       "  <tbody>\n",
       "    <tr>\n",
       "      <td>ev_0</td>\n",
       "      <td>0.022883</td>\n",
       "      <td>-0.019582</td>\n",
       "      <td>-0.015097</td>\n",
       "      <td>0.050394</td>\n",
       "      <td>0.204060</td>\n",
       "      <td>0.371117</td>\n",
       "      <td>0.190529</td>\n",
       "      <td>0.268949</td>\n",
       "      <td>0.427064</td>\n",
       "      <td>0.164705</td>\n",
       "      <td>-0.009905</td>\n",
       "      <td>-0.022599</td>\n",
       "      <td>0.002799</td>\n",
       "      <td>-0.033895</td>\n",
       "      <td>0.011526</td>\n",
       "      <td>-0.020182</td>\n",
       "      <td>-0.027936</td>\n",
       "      <td>0.704078</td>\n",
       "    </tr>\n",
       "    <tr>\n",
       "      <td>ev_1</td>\n",
       "      <td>0.526517</td>\n",
       "      <td>-0.562470</td>\n",
       "      <td>-0.103690</td>\n",
       "      <td>0.016855</td>\n",
       "      <td>-0.042447</td>\n",
       "      <td>0.036740</td>\n",
       "      <td>0.000815</td>\n",
       "      <td>0.021352</td>\n",
       "      <td>-0.059520</td>\n",
       "      <td>-0.001804</td>\n",
       "      <td>0.008022</td>\n",
       "      <td>0.245695</td>\n",
       "      <td>0.380476</td>\n",
       "      <td>-0.144570</td>\n",
       "      <td>-0.113087</td>\n",
       "      <td>-0.383713</td>\n",
       "      <td>0.039553</td>\n",
       "      <td>-0.023152</td>\n",
       "    </tr>\n",
       "    <tr>\n",
       "      <td>ev_2</td>\n",
       "      <td>-0.186391</td>\n",
       "      <td>0.074810</td>\n",
       "      <td>0.142814</td>\n",
       "      <td>0.003889</td>\n",
       "      <td>0.052836</td>\n",
       "      <td>0.007751</td>\n",
       "      <td>0.029356</td>\n",
       "      <td>-0.016607</td>\n",
       "      <td>0.031873</td>\n",
       "      <td>-0.022902</td>\n",
       "      <td>-0.092871</td>\n",
       "      <td>0.365114</td>\n",
       "      <td>0.286045</td>\n",
       "      <td>0.298758</td>\n",
       "      <td>-0.396739</td>\n",
       "      <td>0.170772</td>\n",
       "      <td>0.657852</td>\n",
       "      <td>0.037097</td>\n",
       "    </tr>\n",
       "    <tr>\n",
       "      <td>ev_3</td>\n",
       "      <td>-0.352613</td>\n",
       "      <td>0.330151</td>\n",
       "      <td>-0.080426</td>\n",
       "      <td>0.003231</td>\n",
       "      <td>0.040330</td>\n",
       "      <td>0.037848</td>\n",
       "      <td>-0.021599</td>\n",
       "      <td>-0.027172</td>\n",
       "      <td>-0.029152</td>\n",
       "      <td>-0.004636</td>\n",
       "      <td>-0.226711</td>\n",
       "      <td>0.441333</td>\n",
       "      <td>0.147128</td>\n",
       "      <td>-0.533183</td>\n",
       "      <td>-0.214552</td>\n",
       "      <td>-0.283855</td>\n",
       "      <td>-0.276158</td>\n",
       "      <td>-0.008819</td>\n",
       "    </tr>\n",
       "    <tr>\n",
       "      <td>ev_4</td>\n",
       "      <td>0.029019</td>\n",
       "      <td>-0.105361</td>\n",
       "      <td>0.113744</td>\n",
       "      <td>-0.060397</td>\n",
       "      <td>0.193537</td>\n",
       "      <td>0.099383</td>\n",
       "      <td>-0.088444</td>\n",
       "      <td>-0.137312</td>\n",
       "      <td>-0.036919</td>\n",
       "      <td>-0.053795</td>\n",
       "      <td>-0.701265</td>\n",
       "      <td>0.072859</td>\n",
       "      <td>0.144512</td>\n",
       "      <td>-0.047744</td>\n",
       "      <td>0.574674</td>\n",
       "      <td>0.181507</td>\n",
       "      <td>0.098694</td>\n",
       "      <td>-0.004914</td>\n",
       "    </tr>\n",
       "    <tr>\n",
       "      <td>ev_5</td>\n",
       "      <td>-0.267111</td>\n",
       "      <td>-0.062494</td>\n",
       "      <td>0.659857</td>\n",
       "      <td>0.210428</td>\n",
       "      <td>-0.196963</td>\n",
       "      <td>0.108322</td>\n",
       "      <td>0.070451</td>\n",
       "      <td>0.241535</td>\n",
       "      <td>-0.197077</td>\n",
       "      <td>-0.001331</td>\n",
       "      <td>-0.023974</td>\n",
       "      <td>-0.133090</td>\n",
       "      <td>0.220977</td>\n",
       "      <td>0.233257</td>\n",
       "      <td>0.092792</td>\n",
       "      <td>-0.366759</td>\n",
       "      <td>-0.166527</td>\n",
       "      <td>0.001644</td>\n",
       "    </tr>\n",
       "    <tr>\n",
       "      <td>ev_6</td>\n",
       "      <td>0.001058</td>\n",
       "      <td>0.109837</td>\n",
       "      <td>-0.244030</td>\n",
       "      <td>0.502298</td>\n",
       "      <td>0.536801</td>\n",
       "      <td>0.234953</td>\n",
       "      <td>-0.118318</td>\n",
       "      <td>-0.203609</td>\n",
       "      <td>-0.392317</td>\n",
       "      <td>0.188402</td>\n",
       "      <td>0.032372</td>\n",
       "      <td>-0.152960</td>\n",
       "      <td>0.055700</td>\n",
       "      <td>0.181920</td>\n",
       "      <td>-0.067272</td>\n",
       "      <td>-0.150071</td>\n",
       "      <td>-0.000610</td>\n",
       "      <td>-0.013044</td>\n",
       "    </tr>\n",
       "    <tr>\n",
       "      <td>ev_7</td>\n",
       "      <td>-0.060505</td>\n",
       "      <td>-0.035790</td>\n",
       "      <td>0.260950</td>\n",
       "      <td>-0.337998</td>\n",
       "      <td>0.205978</td>\n",
       "      <td>0.106405</td>\n",
       "      <td>-0.653943</td>\n",
       "      <td>-0.359636</td>\n",
       "      <td>0.323277</td>\n",
       "      <td>0.090250</td>\n",
       "      <td>0.186578</td>\n",
       "      <td>-0.080167</td>\n",
       "      <td>0.112818</td>\n",
       "      <td>0.056335</td>\n",
       "      <td>-0.060983</td>\n",
       "      <td>-0.148092</td>\n",
       "      <td>-0.080532</td>\n",
       "      <td>0.007988</td>\n",
       "    </tr>\n",
       "    <tr>\n",
       "      <td>ev_8</td>\n",
       "      <td>0.007082</td>\n",
       "      <td>-0.042138</td>\n",
       "      <td>0.110591</td>\n",
       "      <td>-0.228984</td>\n",
       "      <td>0.021452</td>\n",
       "      <td>0.611846</td>\n",
       "      <td>0.240576</td>\n",
       "      <td>-0.283762</td>\n",
       "      <td>-0.246375</td>\n",
       "      <td>-0.536676</td>\n",
       "      <td>0.204646</td>\n",
       "      <td>0.066616</td>\n",
       "      <td>-0.114173</td>\n",
       "      <td>-0.072068</td>\n",
       "      <td>-0.023062</td>\n",
       "      <td>0.079159</td>\n",
       "      <td>-0.010229</td>\n",
       "      <td>0.011159</td>\n",
       "    </tr>\n",
       "    <tr>\n",
       "      <td>ev_9</td>\n",
       "      <td>-0.007179</td>\n",
       "      <td>0.036969</td>\n",
       "      <td>-0.168208</td>\n",
       "      <td>0.280662</td>\n",
       "      <td>0.000296</td>\n",
       "      <td>0.046954</td>\n",
       "      <td>-0.516073</td>\n",
       "      <td>0.477417</td>\n",
       "      <td>0.085181</td>\n",
       "      <td>-0.613134</td>\n",
       "      <td>0.039458</td>\n",
       "      <td>0.018145</td>\n",
       "      <td>0.049231</td>\n",
       "      <td>-0.002254</td>\n",
       "      <td>0.053170</td>\n",
       "      <td>0.062424</td>\n",
       "      <td>0.028366</td>\n",
       "      <td>0.004659</td>\n",
       "    </tr>\n",
       "    <tr>\n",
       "      <td>ev_10</td>\n",
       "      <td>-0.030856</td>\n",
       "      <td>-0.012127</td>\n",
       "      <td>0.028821</td>\n",
       "      <td>0.347170</td>\n",
       "      <td>0.109553</td>\n",
       "      <td>-0.312179</td>\n",
       "      <td>0.306829</td>\n",
       "      <td>-0.438902</td>\n",
       "      <td>0.476237</td>\n",
       "      <td>-0.431393</td>\n",
       "      <td>-0.059659</td>\n",
       "      <td>-0.100561</td>\n",
       "      <td>0.083046</td>\n",
       "      <td>0.096119</td>\n",
       "      <td>-0.023150</td>\n",
       "      <td>-0.175976</td>\n",
       "      <td>-0.084203</td>\n",
       "      <td>-0.001869</td>\n",
       "    </tr>\n",
       "    <tr>\n",
       "      <td>ev_11</td>\n",
       "      <td>-0.055118</td>\n",
       "      <td>0.073923</td>\n",
       "      <td>-0.164065</td>\n",
       "      <td>-0.564637</td>\n",
       "      <td>0.439765</td>\n",
       "      <td>-0.237465</td>\n",
       "      <td>0.182878</td>\n",
       "      <td>0.285884</td>\n",
       "      <td>-0.134433</td>\n",
       "      <td>-0.220107</td>\n",
       "      <td>-0.113209</td>\n",
       "      <td>-0.174150</td>\n",
       "      <td>0.102622</td>\n",
       "      <td>0.256206</td>\n",
       "      <td>-0.067028</td>\n",
       "      <td>-0.293677</td>\n",
       "      <td>-0.064606</td>\n",
       "      <td>0.007653</td>\n",
       "    </tr>\n",
       "    <tr>\n",
       "      <td>ev_12</td>\n",
       "      <td>0.054462</td>\n",
       "      <td>-0.208127</td>\n",
       "      <td>0.460676</td>\n",
       "      <td>0.099347</td>\n",
       "      <td>0.544672</td>\n",
       "      <td>-0.309550</td>\n",
       "      <td>0.049135</td>\n",
       "      <td>0.146230</td>\n",
       "      <td>-0.095064</td>\n",
       "      <td>-0.032163</td>\n",
       "      <td>0.230213</td>\n",
       "      <td>0.231660</td>\n",
       "      <td>-0.236282</td>\n",
       "      <td>-0.303125</td>\n",
       "      <td>-0.001528</td>\n",
       "      <td>0.225278</td>\n",
       "      <td>-0.011662</td>\n",
       "      <td>-0.000416</td>\n",
       "    </tr>\n",
       "    <tr>\n",
       "      <td>ev_13</td>\n",
       "      <td>0.126217</td>\n",
       "      <td>-0.151632</td>\n",
       "      <td>0.127489</td>\n",
       "      <td>0.037287</td>\n",
       "      <td>-0.042637</td>\n",
       "      <td>0.078385</td>\n",
       "      <td>-0.132493</td>\n",
       "      <td>0.011286</td>\n",
       "      <td>0.011113</td>\n",
       "      <td>-0.045469</td>\n",
       "      <td>-0.504710</td>\n",
       "      <td>-0.079011</td>\n",
       "      <td>-0.631990</td>\n",
       "      <td>0.063179</td>\n",
       "      <td>-0.458943</td>\n",
       "      <td>-0.199810</td>\n",
       "      <td>0.025652</td>\n",
       "      <td>-0.003054</td>\n",
       "    </tr>\n",
       "    <tr>\n",
       "      <td>ev_14</td>\n",
       "      <td>0.063697</td>\n",
       "      <td>0.013026</td>\n",
       "      <td>0.124078</td>\n",
       "      <td>-0.002254</td>\n",
       "      <td>0.014269</td>\n",
       "      <td>0.013684</td>\n",
       "      <td>0.025779</td>\n",
       "      <td>0.028368</td>\n",
       "      <td>-0.052082</td>\n",
       "      <td>-0.038355</td>\n",
       "      <td>-0.155556</td>\n",
       "      <td>-0.631277</td>\n",
       "      <td>0.371659</td>\n",
       "      <td>-0.437765</td>\n",
       "      <td>-0.369184</td>\n",
       "      <td>0.286111</td>\n",
       "      <td>0.058675</td>\n",
       "      <td>-0.015912</td>\n",
       "    </tr>\n",
       "    <tr>\n",
       "      <td>ev_15</td>\n",
       "      <td>-0.187835</td>\n",
       "      <td>-0.001980</td>\n",
       "      <td>-0.040303</td>\n",
       "      <td>-0.006651</td>\n",
       "      <td>-0.010939</td>\n",
       "      <td>-0.019940</td>\n",
       "      <td>0.005683</td>\n",
       "      <td>-0.005373</td>\n",
       "      <td>0.011313</td>\n",
       "      <td>-0.003969</td>\n",
       "      <td>0.140894</td>\n",
       "      <td>-0.227613</td>\n",
       "      <td>-0.199573</td>\n",
       "      <td>-0.379175</td>\n",
       "      <td>0.276927</td>\n",
       "      <td>-0.459617</td>\n",
       "      <td>0.647398</td>\n",
       "      <td>-0.000882</td>\n",
       "    </tr>\n",
       "    <tr>\n",
       "      <td>ev_16</td>\n",
       "      <td>0.651904</td>\n",
       "      <td>0.681946</td>\n",
       "      <td>0.269061</td>\n",
       "      <td>0.001451</td>\n",
       "      <td>-0.005318</td>\n",
       "      <td>-0.005411</td>\n",
       "      <td>0.005299</td>\n",
       "      <td>0.020747</td>\n",
       "      <td>0.009840</td>\n",
       "      <td>-0.028310</td>\n",
       "      <td>0.003456</td>\n",
       "      <td>0.052519</td>\n",
       "      <td>0.011118</td>\n",
       "      <td>-0.008788</td>\n",
       "      <td>0.067279</td>\n",
       "      <td>-0.139816</td>\n",
       "      <td>0.095468</td>\n",
       "      <td>-0.000921</td>\n",
       "    </tr>\n",
       "    <tr>\n",
       "      <td>ev_17</td>\n",
       "      <td>0.004430</td>\n",
       "      <td>0.003104</td>\n",
       "      <td>0.000078</td>\n",
       "      <td>-0.028615</td>\n",
       "      <td>-0.201527</td>\n",
       "      <td>-0.371899</td>\n",
       "      <td>-0.188291</td>\n",
       "      <td>-0.269484</td>\n",
       "      <td>-0.434346</td>\n",
       "      <td>-0.147970</td>\n",
       "      <td>-0.001942</td>\n",
       "      <td>0.001615</td>\n",
       "      <td>0.002585</td>\n",
       "      <td>-0.003066</td>\n",
       "      <td>-0.002991</td>\n",
       "      <td>0.002054</td>\n",
       "      <td>-0.004061</td>\n",
       "      <td>0.708203</td>\n",
       "    </tr>\n",
       "  </tbody>\n",
       "</table>\n",
       "</div>"
      ],
      "text/plain": [
       "       measurement_0  measurement_1  measurement_2  measurement_3  \\\n",
       "ev_0        0.022883      -0.019582      -0.015097       0.050394   \n",
       "ev_1        0.526517      -0.562470      -0.103690       0.016855   \n",
       "ev_2       -0.186391       0.074810       0.142814       0.003889   \n",
       "ev_3       -0.352613       0.330151      -0.080426       0.003231   \n",
       "ev_4        0.029019      -0.105361       0.113744      -0.060397   \n",
       "ev_5       -0.267111      -0.062494       0.659857       0.210428   \n",
       "ev_6        0.001058       0.109837      -0.244030       0.502298   \n",
       "ev_7       -0.060505      -0.035790       0.260950      -0.337998   \n",
       "ev_8        0.007082      -0.042138       0.110591      -0.228984   \n",
       "ev_9       -0.007179       0.036969      -0.168208       0.280662   \n",
       "ev_10      -0.030856      -0.012127       0.028821       0.347170   \n",
       "ev_11      -0.055118       0.073923      -0.164065      -0.564637   \n",
       "ev_12       0.054462      -0.208127       0.460676       0.099347   \n",
       "ev_13       0.126217      -0.151632       0.127489       0.037287   \n",
       "ev_14       0.063697       0.013026       0.124078      -0.002254   \n",
       "ev_15      -0.187835      -0.001980      -0.040303      -0.006651   \n",
       "ev_16       0.651904       0.681946       0.269061       0.001451   \n",
       "ev_17       0.004430       0.003104       0.000078      -0.028615   \n",
       "\n",
       "       measurement_4  measurement_5  measurement_6  measurement_7  \\\n",
       "ev_0        0.204060       0.371117       0.190529       0.268949   \n",
       "ev_1       -0.042447       0.036740       0.000815       0.021352   \n",
       "ev_2        0.052836       0.007751       0.029356      -0.016607   \n",
       "ev_3        0.040330       0.037848      -0.021599      -0.027172   \n",
       "ev_4        0.193537       0.099383      -0.088444      -0.137312   \n",
       "ev_5       -0.196963       0.108322       0.070451       0.241535   \n",
       "ev_6        0.536801       0.234953      -0.118318      -0.203609   \n",
       "ev_7        0.205978       0.106405      -0.653943      -0.359636   \n",
       "ev_8        0.021452       0.611846       0.240576      -0.283762   \n",
       "ev_9        0.000296       0.046954      -0.516073       0.477417   \n",
       "ev_10       0.109553      -0.312179       0.306829      -0.438902   \n",
       "ev_11       0.439765      -0.237465       0.182878       0.285884   \n",
       "ev_12       0.544672      -0.309550       0.049135       0.146230   \n",
       "ev_13      -0.042637       0.078385      -0.132493       0.011286   \n",
       "ev_14       0.014269       0.013684       0.025779       0.028368   \n",
       "ev_15      -0.010939      -0.019940       0.005683      -0.005373   \n",
       "ev_16      -0.005318      -0.005411       0.005299       0.020747   \n",
       "ev_17      -0.201527      -0.371899      -0.188291      -0.269484   \n",
       "\n",
       "       measurement_8  measurement_9  measurement_10  measurement_11  \\\n",
       "ev_0        0.427064       0.164705       -0.009905       -0.022599   \n",
       "ev_1       -0.059520      -0.001804        0.008022        0.245695   \n",
       "ev_2        0.031873      -0.022902       -0.092871        0.365114   \n",
       "ev_3       -0.029152      -0.004636       -0.226711        0.441333   \n",
       "ev_4       -0.036919      -0.053795       -0.701265        0.072859   \n",
       "ev_5       -0.197077      -0.001331       -0.023974       -0.133090   \n",
       "ev_6       -0.392317       0.188402        0.032372       -0.152960   \n",
       "ev_7        0.323277       0.090250        0.186578       -0.080167   \n",
       "ev_8       -0.246375      -0.536676        0.204646        0.066616   \n",
       "ev_9        0.085181      -0.613134        0.039458        0.018145   \n",
       "ev_10       0.476237      -0.431393       -0.059659       -0.100561   \n",
       "ev_11      -0.134433      -0.220107       -0.113209       -0.174150   \n",
       "ev_12      -0.095064      -0.032163        0.230213        0.231660   \n",
       "ev_13       0.011113      -0.045469       -0.504710       -0.079011   \n",
       "ev_14      -0.052082      -0.038355       -0.155556       -0.631277   \n",
       "ev_15       0.011313      -0.003969        0.140894       -0.227613   \n",
       "ev_16       0.009840      -0.028310        0.003456        0.052519   \n",
       "ev_17      -0.434346      -0.147970       -0.001942        0.001615   \n",
       "\n",
       "       measurement_12  measurement_13  measurement_14  measurement_15  \\\n",
       "ev_0         0.002799       -0.033895        0.011526       -0.020182   \n",
       "ev_1         0.380476       -0.144570       -0.113087       -0.383713   \n",
       "ev_2         0.286045        0.298758       -0.396739        0.170772   \n",
       "ev_3         0.147128       -0.533183       -0.214552       -0.283855   \n",
       "ev_4         0.144512       -0.047744        0.574674        0.181507   \n",
       "ev_5         0.220977        0.233257        0.092792       -0.366759   \n",
       "ev_6         0.055700        0.181920       -0.067272       -0.150071   \n",
       "ev_7         0.112818        0.056335       -0.060983       -0.148092   \n",
       "ev_8        -0.114173       -0.072068       -0.023062        0.079159   \n",
       "ev_9         0.049231       -0.002254        0.053170        0.062424   \n",
       "ev_10        0.083046        0.096119       -0.023150       -0.175976   \n",
       "ev_11        0.102622        0.256206       -0.067028       -0.293677   \n",
       "ev_12       -0.236282       -0.303125       -0.001528        0.225278   \n",
       "ev_13       -0.631990        0.063179       -0.458943       -0.199810   \n",
       "ev_14        0.371659       -0.437765       -0.369184        0.286111   \n",
       "ev_15       -0.199573       -0.379175        0.276927       -0.459617   \n",
       "ev_16        0.011118       -0.008788        0.067279       -0.139816   \n",
       "ev_17        0.002585       -0.003066       -0.002991        0.002054   \n",
       "\n",
       "       measurement_16  measurement_17  \n",
       "ev_0        -0.027936        0.704078  \n",
       "ev_1         0.039553       -0.023152  \n",
       "ev_2         0.657852        0.037097  \n",
       "ev_3        -0.276158       -0.008819  \n",
       "ev_4         0.098694       -0.004914  \n",
       "ev_5        -0.166527        0.001644  \n",
       "ev_6        -0.000610       -0.013044  \n",
       "ev_7        -0.080532        0.007988  \n",
       "ev_8        -0.010229        0.011159  \n",
       "ev_9         0.028366        0.004659  \n",
       "ev_10       -0.084203       -0.001869  \n",
       "ev_11       -0.064606        0.007653  \n",
       "ev_12       -0.011662       -0.000416  \n",
       "ev_13        0.025652       -0.003054  \n",
       "ev_14        0.058675       -0.015912  \n",
       "ev_15        0.647398       -0.000882  \n",
       "ev_16        0.095468       -0.000921  \n",
       "ev_17       -0.004061        0.708203  "
      ]
     },
     "execution_count": 291,
     "metadata": {},
     "output_type": "execute_result"
    }
   ],
   "source": [
    "# 행은 ev_i i번째 주성분의 eigen vector입니다. 그리고 열은 각 eigen vector에 대응되는 변수입니다.\n",
    "# 행렬의 값의 절대값 통해 각 주성분에서 지니는 변수의 비중을 파악할 수 있습니다.\n",
    "df_eigen = pd.DataFrame(\n",
    "    pca.components_, index = ['ev_{}'.format(i) for i in range(18)], columns=X_pca\n",
    ")\n",
    "df_eigen"
   ]
  },
  {
   "cell_type": "code",
   "execution_count": 292,
   "id": "ae34a0e8",
   "metadata": {},
   "outputs": [
    {
     "data": {
      "text/plain": [
       "'measurement_17'"
      ]
     },
     "execution_count": 292,
     "metadata": {},
     "output_type": "execute_result"
    }
   ],
   "source": [
    "# 제 1 주성분에서 가장 비중이 높은 변수를 뽑아 봅니다.\n",
    "df_eigen.iloc[0].abs().idxmax()"
   ]
  },
  {
   "cell_type": "code",
   "execution_count": 248,
   "id": "8e5e4686",
   "metadata": {},
   "outputs": [
    {
     "data": {
      "text/plain": [
       "array([0.15283534, 0.67969009, 0.70771288, 0.81399432, 0.87532548,\n",
       "       0.97170312, 0.97614082, 0.98552903, 0.99213623, 1.00657757,\n",
       "       1.00922255, 1.01995967, 1.05000212, 1.06637856, 1.1632852 ,\n",
       "       1.25547315, 1.41894459, 1.85613793])"
      ]
     },
     "execution_count": 248,
     "metadata": {},
     "output_type": "execute_result"
    }
   ],
   "source": [
    "# 입력 디자인 행렬의 공분산행렬에서 고윳값 분해를 해보도록 하겠습니다. \n",
    "eigen_value, eigen_matrix = np.linalg.eigh(df_prob3_train[X_pca].cov())\n",
    "# 고윳값만 출력해봅니다.\n",
    "eigen_value"
   ]
  },
  {
   "cell_type": "code",
   "execution_count": 229,
   "id": "b4d7abce",
   "metadata": {},
   "outputs": [],
   "source": [
    "df_prob4_train = df_prob3_train.copy()\n",
    "df_prob4_test = df_prob3_test.copy()\n",
    "X_comp = ['pca_{}'.format(i) for i in range(18)]\n",
    "# 2차원 numpy 배열은 한 번에 추가할 수 없습니다.(검정장 기준)\n",
    "# pd.DataFrame 형식으로 만들어주면 추가할 수 있습니다. 인덱스 기준의 대입 되니 pd.DataFrame을 만들 때 인덱스 설정을 해줍니다.\n",
    "df_prob4_train[X_comp] = pd.DataFrame(pca.transform(df_prob3_train[X_pca]), index = df_prob4_train.index)\n",
    "df_prob4_test[X_comp] = pd.DataFrame(pca.transform(df_prob3_test[X_pca]), index = df_prob4_test.index)"
   ]
  },
  {
   "cell_type": "code",
   "execution_count": 309,
   "id": "1df0e32e",
   "metadata": {},
   "outputs": [
    {
     "data": {
      "text/plain": [
       "array([[-1.01483386,  0.98865386,  0.60831251, ..., -0.12706416,\n",
       "        -0.47379825,  1.75341914],\n",
       "       [-1.25032427, -0.92964976,  0.9123625 , ...,  2.20225311,\n",
       "         1.97389947, -1.44161919],\n",
       "       [-0.77934346,  0.74886591,  1.82451245, ...,  0.24786945,\n",
       "         0.99422192,  0.55484978],\n",
       "       ...,\n",
       "       [-0.30836265,  0.26929   ,  0.60831251, ..., -0.86882471,\n",
       "         0.93676985,  0.61226211],\n",
       "       [ 0.39810856, -1.64901362, -0.30383743, ..., -0.10409526,\n",
       "         0.95532208, -0.35813457],\n",
       "       [ 0.63359896, -0.45007386,  1.21641248, ...,  0.92815439,\n",
       "         0.26829103,  1.17215604]])"
      ]
     },
     "execution_count": 309,
     "metadata": {},
     "output_type": "execute_result"
    }
   ],
   "source": [
    "# PCA의 역변환을 할 수 있습니다.\n",
    "pca.inverse_transform(df_prob4_train[X_comp])"
   ]
  },
  {
   "cell_type": "code",
   "execution_count": 305,
   "id": "d1219fc5",
   "metadata": {},
   "outputs": [
    {
     "name": "stdout",
     "output_type": "stream",
     "text": [
      "18 -1.7763568394002505e-13 3.320992381024408e-29\n",
      "17 0.1528353405813867 0.15283534058156667\n",
      "16 0.8325254315599828 0.8325254315601602\n",
      "15 1.540238311500751 1.5402383115009304\n",
      "14 2.354232634771005 2.3542326347711935\n",
      "13 3.229558110597136 3.229558110597323\n",
      "12 4.2012612330293635 4.201261233029558\n",
      "11 5.1774020506765925 5.177402050676783\n",
      "10 6.162931078706915 6.1629310787071105\n",
      "9 7.1550673106178575 7.155067310618054\n",
      "8 8.161644880948499 8.161644880948698\n",
      "7 9.17086756376442 9.170867450007893\n",
      "6 10.196212406010279 10.194751529554644\n",
      "5 11.248118119364571 11.24623355431854\n",
      "4 12.323356201212569 12.319799559755683\n",
      "3 13.490453056974228 13.484471574782999\n",
      "2 14.730648352824165 14.728978248312687\n",
      "1 16.144917156453445 16.144913730254192\n"
     ]
    }
   ],
   "source": [
    "# 참고 pca.inverse_transform를 통해 PCA의 역변환을 할 수 있습니다.\n",
    "# 복원하면 차원축소 과정에서 제외된 성분이지닌 변동성을 잃어버리게 됩니다.\n",
    "total_var = df_prob4_train[X_pca].var().sum()\n",
    "for i in range(18, 0, -1):\n",
    "    pca_exp = PCA(n_components=i, random_state=123)\n",
    "    pca_exp.fit(df_prob3_train[X_pca])\n",
    "    X_tr = pca_exp.transform(df_prob4_train[X_pca])\n",
    "    print(\n",
    "        i, total_var - pca_exp.explained_variance_.sum(),\n",
    "        (pca_exp.inverse_transform(X_tr) - df_prob4_train[X_pca]).var().sum()\n",
    "    )"
   ]
  },
  {
   "cell_type": "markdown",
   "id": "11d71204",
   "metadata": {},
   "source": [
    "## 단계 4-3\n",
    "\n",
    "초기에 loading을 입력 변수로 하여 prob4_train을 학습하고, prob4_test에 대한 성능을 측정한다.\n",
    "\n",
    "여기에 pca_0에서 pca_17까지 입력 변수를 하나씩 추가 하면서, \n",
    "\n",
    "즉 분산 설명율이 높은 순으로 컴포넌트를 하나씩 추가하여 prob4_train를 학습하고 prob4_test의 성능을 측정 했을 때, \n",
    "\n",
    "최적의 성능을 보인 컴포넌트들의 분산 설명율의 합을 B라고 한다. (만일 없다면 B = 0이다.)\n",
    "\n",
    "입력 변수: 설명 참고\n",
    "\n",
    "대상 변수: failure\n",
    "\n",
    "성능 지표: AUC(area under of ROC curve)\n",
    "\n",
    "---\n",
    "**함수가이드**\n",
    "\n",
    "sklearn.linear_model.LogisticRegression, solver=’lbfgs’\n",
    "\n",
    "---"
   ]
  },
  {
   "cell_type": "code",
   "execution_count": 231,
   "id": "8afec2fe",
   "metadata": {},
   "outputs": [
    {
     "name": "stdout",
     "output_type": "stream",
     "text": [
      "loading 0.5778277926972065\n",
      "pca_0 0.579565141627812\n",
      "pca_1 0.5784170060859327\n",
      "pca_2 0.5786498903164131\n",
      "pca_3 0.5801256923420173\n",
      "pca_4 0.5805735466314028\n",
      "pca_5 0.5811103203542446\n",
      "pca_6 0.581757510516433\n",
      "pca_7 0.5808025223153578\n",
      "pca_8 0.5801787834323228\n",
      "pca_9 0.5801664063683251\n",
      "pca_10 0.5794231311040503\n",
      "pca_11 0.5785678108393766\n",
      "pca_12 0.5782202759108135\n",
      "pca_13 0.5782310244137587\n",
      "pca_14 0.5776818736269195\n",
      "pca_15 0.5772988360674158\n",
      "pca_16 0.5768773644670778\n",
      "pca_17 0.5771252314592396\n"
     ]
    }
   ],
   "source": [
    "from sklearn.linear_model import LogisticRegression\n",
    "from sklearn.metrics import roc_auc_score\n",
    "\n",
    "clf_lr = LogisticRegression(solver='lbfgs')\n",
    "scores = list()\n",
    "X_hist = list()\n",
    "X_cur = []\n",
    "# 분산 설명율이 높은 순으로 컴포넌트를 하나씩 추가하여 변수를 구성해 갑니다.\n",
    "for i in ['loading'] + ['pca_{}'.format(i) for i in range(18)]:\n",
    "    X_cur.append(i)\n",
    "    clf_lr.fit(df_prob4_train[X_cur], df_prob4_train['failure'])\n",
    "    scores.append(\n",
    "        roc_auc_score(df_prob4_test['failure'], clf_lr.predict_proba(df_prob4_test[X_cur])[:, 1])\n",
    "    )\n",
    "    # 입력 변수들을 저장합니다.\n",
    "    X_hist.append(X_cur.copy())\n",
    "    print(i, scores[-1])"
   ]
  },
  {
   "cell_type": "code",
   "execution_count": 233,
   "id": "109c6293",
   "metadata": {},
   "outputs": [
    {
     "data": {
      "text/plain": [
       "['loading', 'pca_0', 'pca_1', 'pca_2', 'pca_3', 'pca_4', 'pca_5', 'pca_6']"
      ]
     },
     "execution_count": 233,
     "metadata": {},
     "output_type": "execute_result"
    }
   ],
   "source": [
    "X_hist[np.argmax(scores)]"
   ]
  },
  {
   "cell_type": "code",
   "execution_count": 236,
   "id": "7c59d14e",
   "metadata": {},
   "outputs": [
    {
     "data": {
      "text/plain": [
       "0.49053704530610653"
      ]
     },
     "execution_count": 236,
     "metadata": {},
     "output_type": "execute_result"
    }
   ],
   "source": [
    "B = np.sum(pca.explained_variance_ratio_[:7])\n",
    "B"
   ]
  },
  {
   "cell_type": "code",
   "execution_count": 239,
   "id": "4969fef5",
   "metadata": {},
   "outputs": [
    {
     "data": {
      "text/plain": [
       "(0.6995009550811424, 0.49053704530610653, 1.1900380003872488, 1.19)"
      ]
     },
     "execution_count": 239,
     "metadata": {},
     "output_type": "execute_result"
    }
   ],
   "source": [
    "A, B, A + B, round(A + B, 2)"
   ]
  },
  {
   "cell_type": "markdown",
   "id": "db7a7e38",
   "metadata": {},
   "source": [
    "A + B를 소수점 셋째 자리에서 반올림하여 둘째 자리까지 구하라.\n",
    "\n",
    "**1.19**"
   ]
  },
  {
   "cell_type": "markdown",
   "id": "86ba3524",
   "metadata": {},
   "source": [
    "# 문제 5\n",
    "\n",
    "랜덤포레스트 분류기(Random-Forest Classifier)의 최적의 하이퍼 파라미터(Hyper-Parameter, 초매개변수)를 탐색하고자 한다.\n",
    "\n",
    "문제3에서 사용했던, 전처리(loading 결측치 처리와 표준화 과정을 거친) 과정을 거친 prob3_train과 prob3_test를 사용한다."
   ]
  },
  {
   "cell_type": "code",
   "execution_count": null,
   "id": "57e99809",
   "metadata": {},
   "outputs": [],
   "source": []
  },
  {
   "cell_type": "markdown",
   "id": "05189b7d",
   "metadata": {},
   "source": [
    "## 단계 5-1\n",
    "\n",
    "sklearn에서 제공하는 랜덤포레스트 분류기(Random-Forest Classifier)의 하이퍼 파라미터 중 \n",
    "\n",
    "n_estimators, max_depth 그리고 min_samples_split의 최적 조합을 탐색한다. \n",
    "\n",
    "탐색 값은 아래에 제공한 하이퍼 파라미터의 모든 조합이다. \n",
    "\n",
    "prob3_train을 대상으로 5-겹 층화교차검증(5-fold stratified cross validation)으로 \n",
    "\n",
    "각각  겹외셋(OOF set, Out-Of-Fold set)의 성능에 대한 평균을 기준으로 하이퍼 파라미터를 선택한다.\n",
    "\n",
    "  - n_estimators: [5, 10, 15]\n",
    "\n",
    "  - max_depth: [5, 6, 7]\n",
    "  \n",
    "  - min_samples_split: [256, 512]\n",
    "\n",
    "Hint] 모든 하이퍼 파라미터의 조합의 수는 18개이다\n",
    "\n",
    "입력 변수: loading, measurement_0 ~ 17, na_1, na_2 (순서에 유의)\n",
    "\n",
    "대상 변수: failure\n",
    "\n",
    "성능 지표: AUC (area under of ROC curve)\n",
    "\n",
    "---\n",
    "**함수가이드**\n",
    "\n",
    "sklearn.ensemble.RandomForestClassifier, random_state=123 \n",
    "\n",
    "itertools.product 필요시 사용\n",
    "\n",
    "sklearn.model_selection.cross_val_score 필요시 사용\n",
    "\n",
    "sklearn.model_selection.StratifiedKFold, random_state=123, shuffle=True\n",
    "\n",
    "sklearn.model_selection.GridSearchCV 필요시 사용\n",
    "\n",
    "---"
   ]
  },
  {
   "cell_type": "code",
   "execution_count": 260,
   "id": "6226741f",
   "metadata": {},
   "outputs": [
    {
     "data": {
      "text/plain": [
       "GridSearchCV(cv=StratifiedKFold(n_splits=5, random_state=123, shuffle=True),\n",
       "             error_score='raise-deprecating',\n",
       "             estimator=RandomForestClassifier(bootstrap=True, class_weight=None,\n",
       "                                              criterion='gini', max_depth=None,\n",
       "                                              max_features='auto',\n",
       "                                              max_leaf_nodes=None,\n",
       "                                              min_impurity_decrease=0.0,\n",
       "                                              min_impurity_split=None,\n",
       "                                              min_samples_leaf=1,\n",
       "                                              min_samples_split=2,\n",
       "                                              min_weight_fraction_leaf=0.0,\n",
       "                                              n_estimators='warn', n_jobs=None,\n",
       "                                              oob_score=False, random_state=123,\n",
       "                                              verbose=0, warm_start=False),\n",
       "             iid=False, n_jobs=None,\n",
       "             param_grid={'max_depth': [5, 6, 7],\n",
       "                         'min_samples_split': [256, 512],\n",
       "                         'n_estimators': [5, 10, 15]},\n",
       "             pre_dispatch='2*n_jobs', refit=True, return_train_score=False,\n",
       "             scoring='roc_auc', verbose=0)"
      ]
     },
     "execution_count": 260,
     "metadata": {},
     "output_type": "execute_result"
    }
   ],
   "source": [
    "# 방법1: sklearn.model_selection.GridSearchCV 이용\n",
    "from sklearn.model_selection import GridSearchCV\n",
    "from sklearn.ensemble import RandomForestClassifier\n",
    "\n",
    "X_gscv = ['loading'] + ['measurement_{}'.format(i) for i in range(18)] + ['na_1', 'na_2']\n",
    "gscv = GridSearchCV(\n",
    "    estimator = RandomForestClassifier(random_state=123),\n",
    "    param_grid = {\n",
    "        'n_estimators': [5, 10, 15], # n_estimators: [5, 10, 15], \n",
    "        'max_depth': [5, 6, 7], # max_depth: [5, 6, 7],\n",
    "        'min_samples_split': [256, 512] # min_samples_split: [256, 512]\n",
    "    }, # param_grid에 탐색 대상 파라메터를 구성합니다.\n",
    "    scoring = 'roc_auc',\n",
    "    iid = False, # 각각 겹외셋(OOF set, Out-Of-Fold set)의 성능에 대한 평균을 기준으로 하이퍼 파라미터를 선택한다.\n",
    "    cv = StratifiedKFold(5, random_state=123, shuffle=True) # 5-겹 층화교차검증(5-fold stratified cross validation)\n",
    ")\n",
    "gscv.fit(df_prob3_train[X_gscv], df_prob3_train['failure'])"
   ]
  },
  {
   "cell_type": "code",
   "execution_count": 268,
   "id": "96f68d19",
   "metadata": {},
   "outputs": [
    {
     "data": {
      "text/plain": [
       "({'max_depth': 7, 'min_samples_split': 512, 'n_estimators': 15},\n",
       " 0.5745226991354744)"
      ]
     },
     "execution_count": 268,
     "metadata": {},
     "output_type": "execute_result"
    }
   ],
   "source": [
    "best_params = gscv.best_params_ # best_score_, cv_result_\n",
    "best_params, gscv.best_score_"
   ]
  },
  {
   "cell_type": "code",
   "execution_count": 279,
   "id": "b57550bf",
   "metadata": {},
   "outputs": [
    {
     "name": "stdout",
     "output_type": "stream",
     "text": [
      "{'n_estimators': 5, 'max_depth': 5, 'min_samples_split': 256} 0.5547115468443294\n",
      "{'n_estimators': 5, 'max_depth': 5, 'min_samples_split': 512} 0.5617150416141751\n",
      "{'n_estimators': 5, 'max_depth': 6, 'min_samples_split': 256} 0.5568999583940097\n",
      "{'n_estimators': 5, 'max_depth': 6, 'min_samples_split': 512} 0.5623239919998733\n",
      "{'n_estimators': 5, 'max_depth': 7, 'min_samples_split': 256} 0.5567633668997499\n",
      "{'n_estimators': 5, 'max_depth': 7, 'min_samples_split': 512} 0.5642015275666604\n",
      "{'n_estimators': 10, 'max_depth': 5, 'min_samples_split': 256} 0.5654552370913933\n",
      "{'n_estimators': 10, 'max_depth': 5, 'min_samples_split': 512} 0.5707474621000601\n",
      "{'n_estimators': 10, 'max_depth': 6, 'min_samples_split': 256} 0.5681316681217556\n",
      "{'n_estimators': 10, 'max_depth': 6, 'min_samples_split': 512} 0.5680847464819798\n",
      "{'n_estimators': 10, 'max_depth': 7, 'min_samples_split': 256} 0.5670255107788329\n",
      "{'n_estimators': 10, 'max_depth': 7, 'min_samples_split': 512} 0.5724060304780464\n",
      "{'n_estimators': 15, 'max_depth': 5, 'min_samples_split': 256} 0.5692073209929452\n",
      "{'n_estimators': 15, 'max_depth': 5, 'min_samples_split': 512} 0.5716407241067258\n",
      "{'n_estimators': 15, 'max_depth': 6, 'min_samples_split': 256} 0.5706158790202794\n",
      "{'n_estimators': 15, 'max_depth': 6, 'min_samples_split': 512} 0.5699305861415821\n",
      "{'n_estimators': 15, 'max_depth': 7, 'min_samples_split': 256} 0.5699417404975209\n",
      "{'n_estimators': 15, 'max_depth': 7, 'min_samples_split': 512} 0.5745226991354744\n"
     ]
    }
   ],
   "source": [
    "# 방법 2 itertools.product + 직접 교차 검증\n",
    "\n",
    "from itertools import product\n",
    "from sklearn.metrics import roc_auc_score\n",
    "params = [\n",
    "    {'n_estimators': a, 'max_depth': b, 'min_samples_split': c} \n",
    "    for a, b, c in product([5, 10, 15], [5, 6, 7], [256, 512])\n",
    "]\n",
    "cv = StratifiedKFold(5, random_state=123, shuffle=True)\n",
    "X_gscv = ['loading'] + ['measurement_{}'.format(i) for i in range(18)] + ['na_1', 'na_2']\n",
    "scores = list()\n",
    "for param in params:\n",
    "    clf_rf = RandomForestClassifier(random_state=123, **param)\n",
    "    \"\"\"\n",
    "    # cross_val_score은 아래 작업을 할 수 있습니다.\n",
    "    scores.append(\n",
    "       np.mean(cross_val_score(clf_rf, df_prob3_train[X_gscv], df_prob3_train['failure'], scoring='roc_auc', cv=cv))\n",
    "    )\"\"\"\n",
    "    # cross_val_score의 과정을 아래와 같이 직접 구현할 수 있습니다.\n",
    "    cv_scores = list()\n",
    "    # splitter의 split 메소드는 폴드(fold)의 train_idx와 test_idx를 넘겨 줍니다.\n",
    "    for train_idx, valid_idx in cv.split(df_prob3_train[X_gscv], df_prob3_train['failure']):\n",
    "        # train_idx, test_idx는 위치 인덱스입니다.\n",
    "        df_cv_train, df_valid = df_prob3_train.iloc[train_idx], df_prob3_train.iloc[valid_idx]\n",
    "        clf_rf.fit(df_cv_train[X_gscv], df_cv_train['failure'])\n",
    "        cv_scores.append(\n",
    "            roc_auc_score(df_valid['failure'], clf_rf.predict_proba(df_valid[X_gscv])[:, 1])\n",
    "        )\n",
    "    scores.append(np.mean(cv_scores))\n",
    "    print(param, scores[-1])"
   ]
  },
  {
   "cell_type": "code",
   "execution_count": 281,
   "id": "d15344fd",
   "metadata": {},
   "outputs": [
    {
     "data": {
      "text/plain": [
       "({'n_estimators': 15, 'max_depth': 7, 'min_samples_split': 512},\n",
       " 0.5745226991354744)"
      ]
     },
     "execution_count": 281,
     "metadata": {},
     "output_type": "execute_result"
    }
   ],
   "source": [
    "best_params = params[np.argmax(scores)]\n",
    "best_params, np.max(scores)"
   ]
  },
  {
   "cell_type": "markdown",
   "id": "eacc40ad",
   "metadata": {},
   "source": [
    "## 단계 5-2\n",
    "\n",
    "단계 5-1에서 구한 최적 하이퍼 파라미터로 설정한 랜덤포레스트 분류기(Random-Forest Classifier)를 사용하여 prob3_train 학습하고, \n",
    "\n",
    "prob3_test로 성능을 측정하여 이 값을 A라고 한다.\n",
    "\n",
    "입력 변수: loading, measurement_0 ~ 17, na_1, na_2 (순서에 유의)\n",
    "\n",
    "대상 변수: failure\n",
    "\n",
    "성능 지표: AUC (area under of ROC curve)\n",
    "\n",
    "---\n",
    "**함수가이드**\n",
    "\n",
    "sklearn.ensemble.RandomForestClassifier, random_state=123 \n",
    "\n",
    "---\n"
   ]
  },
  {
   "cell_type": "code",
   "execution_count": 282,
   "id": "1ebecc95",
   "metadata": {},
   "outputs": [
    {
     "data": {
      "text/plain": [
       "(0.5687712018291998, 0.6416568062149542)"
      ]
     },
     "execution_count": 282,
     "metadata": {},
     "output_type": "execute_result"
    }
   ],
   "source": [
    "from sklearn.metrics import roc_auc_score\n",
    "clf_rf = RandomForestClassifier(random_state=123, **best_params)\n",
    "X_gscv = ['loading'] + ['measurement_{}'.format(i) for i in range(18)] + ['na_1', 'na_2']\n",
    "clf_rf.fit(df_prob3_train[X_gscv], df_prob3_train['failure'])\n",
    "A = roc_auc_score(df_prob3_test['failure'], clf_rf.predict_proba(df_prob3_test[X_gscv])[:, 1])\n",
    "(\n",
    "    A,\n",
    "    roc_auc_score(df_prob3_train['failure'], clf_rf.predict_proba(df_prob3_train[X_gscv])[:, 1])\n",
    ")"
   ]
  },
  {
   "cell_type": "code",
   "execution_count": 283,
   "id": "21212ed2",
   "metadata": {},
   "outputs": [
    {
     "data": {
      "text/plain": [
       "(0.5687712018291998, 0.569)"
      ]
     },
     "execution_count": 283,
     "metadata": {},
     "output_type": "execute_result"
    }
   ],
   "source": [
    "A, round(A, 3)"
   ]
  },
  {
   "cell_type": "markdown",
   "id": "044dd522",
   "metadata": {},
   "source": [
    "A값을 소수점 넷째 자리에서 반올림하여 3째 자리까지 출력하시오.\n",
    "\n",
    "**0.569**"
   ]
  },
  {
   "cell_type": "code",
   "execution_count": null,
   "id": "b38952bf",
   "metadata": {},
   "outputs": [],
   "source": []
  }
 ],
 "metadata": {
  "kernelspec": {
   "display_name": "Python 3 (ipykernel)",
   "language": "python",
   "name": "python3"
  },
  "language_info": {
   "codemirror_mode": {
    "name": "ipython",
    "version": 3
   },
   "file_extension": ".py",
   "mimetype": "text/x-python",
   "name": "python",
   "nbconvert_exporter": "python",
   "pygments_lexer": "ipython3",
   "version": "3.7.4"
  }
 },
 "nbformat": 4,
 "nbformat_minor": 5
}
