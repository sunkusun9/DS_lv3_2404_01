{
 "cells": [
  {
   "cell_type": "markdown",
   "id": "0aa73290",
   "metadata": {},
   "source": [
    "## 문제 6\n",
    "\n",
    "**Kaggle 형** train_prob.csv로 문제 target을 예측하는 모델을 만들고, \n",
    "\n",
    "test_prob.csv에 대한 target 예측하여 다음과 같은 형식의 answer6.csv를 만들어라.\n",
    "\n",
    "id, target\n",
    "\n",
    "0, 6.9\n",
    "\n",
    "5, 7.8\n",
    "\n",
    "...\n",
    "\n",
    "\n",
    "**평가지표**\n",
    "\n",
    "$RMSE(Y, \\hat{Y}) = \\sqrt{\\frac{1}{n}\\sum^{n}_{i=1}(y_i-\\hat{y_i})^2}$\n",
    "\n",
    "**강사: 멀티캠퍼스 강선구(sunku0316.kang@multicampus.com, sun9sun9@gmail.com)**"
   ]
  },
  {
   "cell_type": "code",
   "execution_count": 1,
   "id": "c8af540a",
   "metadata": {},
   "outputs": [
    {
     "name": "stdout",
     "output_type": "stream",
     "text": [
      "3.7.4 (tags/v3.7.4:e09359112e, Jul  8 2019, 20:34:20) [MSC v.1916 64 bit (AMD64)]\n",
      "pandas 0.25.1\n",
      "numpy 1.18.5\n",
      "sklearn 0.21.3\n",
      "scipy 1.5.2\n",
      "mlxtend 0.15.0.0\n",
      "statsmodels 0.11.1\n",
      "xgboost 0.80\n"
     ]
    }
   ],
   "source": [
    "# 실행 환경 확인\n",
    "\n",
    "import pandas as pd\n",
    "import numpy as np\n",
    "import sklearn\n",
    "import scipy\n",
    "import statsmodels\n",
    "import mlxtend\n",
    "import sys\n",
    "import xgboost as xgb\n",
    "\n",
    "print(sys.version)\n",
    "for i in [pd, np, sklearn, scipy, mlxtend, statsmodels, xgb]:\n",
    "    print(i.__name__, i.__version__)"
   ]
  },
  {
   "cell_type": "code",
   "execution_count": 2,
   "id": "dcae19f3",
   "metadata": {},
   "outputs": [],
   "source": [
    "df_train = pd.read_csv('train_prob.csv', index_col='id')\n",
    "df_test = pd.read_csv('test_prob.csv', index_col='id')\n",
    "df_ans = pd.read_csv('test_prob_ans.csv', index_col='id')"
   ]
  },
  {
   "cell_type": "code",
   "execution_count": 3,
   "id": "4ab7b0ba",
   "metadata": {},
   "outputs": [
    {
     "name": "stdout",
     "output_type": "stream",
     "text": [
      "cat3 {'B': 'C'} [83634, 147361, 9005]\n",
      "cat4 {'A': 'B', 'D': 'B'} [239397, 603]\n",
      "cat6 {'D': 'A', 'E': 'B', 'G': 'C', 'H': 'B', 'I': 'A'} [234203, 5145, 652]\n",
      "cat7 {'A': 'B', 'C': 'B', 'F': 'D', 'I': 'B'} [4606, 19784, 214027, 1583]\n",
      "cat8 {'B': 'G', 'F': 'E'} [30338, 96743, 2953, 76085, 33881]\n",
      "cat9 {'C': 'H', 'D': 'B', 'E': 'L'} [10678, 2846, 85944, 8320, 19987, 40070, 5501, 16743, 33793, 7819, 3331, 4968]\n"
     ]
    }
   ],
   "source": [
    "# 처리 과정에 필요하 내용들을 list 형태로 구성합니다.\n",
    "repl_list = [\n",
    "    ('cat3', {'B': 'C'}, [83634, 147361, 9005]),\n",
    "    ('cat4', {'A': 'B', 'D': 'B'}, [239397, 603]),\n",
    "    ('cat6', {'D': 'A', 'E': 'B', 'G': 'C', 'H': 'B', 'I': 'A'}, [234203, 5145, 652]),\n",
    "    ('cat7', {'A': 'B', 'C': 'B', 'F': 'D', 'I': 'B'}, [4606, 19784, 214027, 1583]),\n",
    "    ('cat8', {'B': 'G', 'F': 'E'}, [30338, 96743, 2953, 76085, 33881]),\n",
    "    ('cat9', {'C': 'H', 'D': 'B', 'E': 'L'}, [10678, 2846, 85944, 8320, 19987, 40070, 5501, 16743, 33793, 7819, 3331, 4968])\n",
    "]\n",
    "# 반복문 처리 내용들을 수행합니다.\n",
    "for v, d, cnts in repl_list:\n",
    "    print(v, d, cnts)\n",
    "    # 치환후 내용을 s_repl에 저장합니다\n",
    "    s_repl = df_train[v].replace(d)\n",
    "    # 치환결과를 확인합니다.\n",
    "    if (s_repl.nunique() != len(cnts)) or ((s_repl.value_counts().sort_index() != cnts).any()):\n",
    "        print(s_repl.value_counts())\n",
    "        break\n",
    "    df_train[v] = s_repl\n",
    "    if v != 'cat9':\n",
    "        df_test[v] = df_test[v].replace(d)\n",
    "    \n",
    "cat_cols = ['cat{}'.format(i) for i in range(10)]\n",
    "cont_cols = ['cont{}'.format(i) for i in range(14)]"
   ]
  },
  {
   "cell_type": "code",
   "execution_count": 4,
   "id": "312d2889",
   "metadata": {},
   "outputs": [],
   "source": [
    "X_all = df_test.columns.tolist()"
   ]
  },
  {
   "cell_type": "code",
   "execution_count": 5,
   "id": "fcd4eb88",
   "metadata": {},
   "outputs": [],
   "source": [
    "from sklearn.model_selection import cross_val_predict\n",
    "from sklearn.preprocessing import OneHotEncoder\n",
    "from sklearn.pipeline import make_pipeline\n",
    "from sklearn.compose import ColumnTransformer\n",
    "from scipy.stats import norm\n",
    "\n",
    "import os\n",
    "\n",
    "df_train['targetA'] = df_train['target'] <= 7.45\n",
    "\n",
    "# 시간이 오래걸리므로 저장해두고, 저장 결과가 없을 시 실행합니다.\n",
    "if not os.path.isfile('targetA_train.csv'):\n",
    "    # 문제 3에서 targetA에 대한 예측 모델을 사용합니다,\n",
    "    df_train_clf = df_train.assign(\n",
    "        prob_A = 1 - norm.cdf(df_train['target'], loc=6.769, scale=0.616),\n",
    "        prob_B = norm.cdf(df_train['target'], loc=8.123, scale=0.527)\n",
    "    ).query('prob_B < 0.01 or prob_A < 0.01').copy()\n",
    "    \n",
    "    clf_xgb = make_pipeline( \n",
    "            ColumnTransformer([\n",
    "                ('ohe', OneHotEncoder(handle_unknown='ignore'), cat_cols),\n",
    "                ('pt', 'passthrough', cont_cols)\n",
    "            ]),\n",
    "            xgb.XGBClassifier(\n",
    "                max_depth = 2, # 트리의 최대 깊이 2\n",
    "                reg_alpha = 0.1, # L1 규제 0.1\n",
    "                reg_lambda = 0.1, # L2 규제 0.1\n",
    "                colsample_bytree=0.25, # 트리 당 컬럼 샘플링 비율 0.25\n",
    "                n_estimators=500, # 트리의 수 500\n",
    "                random_state=123, # random_state 123\n",
    "            )\n",
    "    )\n",
    "    \n",
    "    clf_xgb.fit(df_train_clf[X_all], df_train_clf['targetA'])\n",
    "    df_targetA_train = pd.DataFrame({'targetA_prob': clf_xgb.predict_proba(df_train[X_all])[:, 1]}, index=df_train.index)\n",
    "    \n",
    "    # target의 정보가 들어가므로 Leak이 생깁니다. \n",
    "    # target관련 모델의 예측 값은  교차 검증을 사용하여 Leak 없이 처리할 수 있습니다.\n",
    "    # cross_val_predict로 쉽게 할 수 있습니다. 교차 검증시 겹외셋에 대한 예측을 결과를 반환합니다.\n",
    "    targetA_prob_cv = cross_val_predict(clf_xgb, df_train_clf[X_all], df_train_clf['targetA'], cv=5, method='predict_proba')\n",
    "    # df_train_clf에 있는 해당하는 예측은 교차검증의 예측값으로 대체합니다.\n",
    "    df_targetA_train.loc[df_targetA_train.index.isin(df_train_clf.index), 'targetA_prob'] = targetA_prob_cv[:, 1]\n",
    "    \n",
    "    df_targetA_train.to_csv('targetA_train.csv')\n",
    "    df_targetA_test = pd.DataFrame({'targetA_prob': clf_xgb.predict_proba(df_test[X_all])[:, 1]}, index=df_test.index)\n",
    "    df_targetA_test.to_csv('targetA_test.csv')\n",
    "else:\n",
    "    df_targetA_train = pd.read_csv('targetA_train.csv', index_col='id')\n",
    "    df_targetA_test = pd.read_csv('targetA_test.csv', index_col='id')"
   ]
  },
  {
   "cell_type": "code",
   "execution_count": 6,
   "id": "623a9b7e",
   "metadata": {},
   "outputs": [],
   "source": [
    "df_train['targetA_prob'] = df_targetA_train['targetA_prob']\n",
    "df_test['targetA_prob'] = df_targetA_test['targetA_prob']"
   ]
  },
  {
   "cell_type": "code",
   "execution_count": 7,
   "id": "fddbb06a",
   "metadata": {},
   "outputs": [],
   "source": [
    "q = [i for i in np.arange(0, 1.01, 0.01)]\n",
    "# 나머지 변수에 대해서도 해당 파생 변수를 만들어 줍니다.\n",
    "for i in range(0, 14):\n",
    "    col = 'cont{}'.format(i)\n",
    "    q_val = df_train[col].quantile(q)\n",
    "    q_val.iloc[[0, -1]] = [-np.inf, np.inf]\n",
    "    q_range = pd.cut(df_train[col], bins=q_val)\n",
    "    q_mean = df_train.groupby(q_range)['target'].mean()\n",
    "    df_train[col + '_q'] = q_range.map(q_mean).astype('float')\n",
    "    df_test[col + '_q'] = pd.cut(df_test[col], bins=q_val).map(q_mean).astype('float')"
   ]
  },
  {
   "cell_type": "code",
   "execution_count": 8,
   "id": "6c65f99c",
   "metadata": {},
   "outputs": [],
   "source": [
    "s_hist = []"
   ]
  },
  {
   "cell_type": "code",
   "execution_count": 9,
   "id": "26afad07",
   "metadata": {},
   "outputs": [],
   "source": [
    "# 공통\n",
    "from sklearn.pipeline import make_pipeline\n",
    "from sklearn.compose import ColumnTransformer\n",
    "from sklearn.preprocessing import OneHotEncoder, StandardScaler\n",
    "from sklearn.metrics import accuracy_score, mean_squared_error\n",
    "from sklearn.metrics import make_scorer, mean_squared_error\n",
    "from sklearn.model_selection import ShuffleSplit, KFold \n",
    "\n",
    "cv = KFold(n_splits=5, random_state=123)\n",
    "# train(80%)/test(20%) 한 번으로 검증합니다. XGB, RF등 오래 걸리는 모델을 위해 사용합니다.\n",
    "ss = ShuffleSplit(n_splits=1, train_size=0.8, random_state=123)\n",
    "\n",
    "df_ans = pd.read_csv('test_prob_ans.csv', index_col='id')\n",
    "X_all = df_test.columns.tolist()  + ['targetA_prob']\n",
    "\n",
    "cat_cols = ['cat{}'.format(i) for i in range(10)]\n",
    "cont_cols = ['cont{}'.format(i) for i in range(14)]\n",
    "cont_q_cols = ['cont{}_q'.format(i) for i in range(14)]\n",
    "\n",
    "# 위에서 발생한 leak을 바로 잡아 교차검증을 합니다.\n",
    "q = [i for i in np.arange(0, 1.01, 0.01)]\n",
    "def eval_model(model, sp):\n",
    "    score_train, score_valid = list(), list()\n",
    "    for train_idx, valid_idx in sp.split(df_train):\n",
    "        df_cv_train, df_valid = df_train.iloc[train_idx].copy(), df_train.iloc[valid_idx].copy()\n",
    "        # 검증셋에서 train으로 파생변수를 만들고\n",
    "        # 검증셋의 test(겹외셋)에 검증셋의 train으로 만든 통계값(mean)을 반영합니다.\n",
    "        for i in range(0, 14):\n",
    "            col = 'cont{}'.format(i)\n",
    "            qt = df_cv_train[col].quantile(q)\n",
    "            qt.iloc[[0, -1]] = [-np.inf, np.inf]\n",
    "            q_range = pd.cut(df_cv_train[col], bins=qt)\n",
    "            q_mean = df_cv_train.groupby(q_range)['target'].mean()\n",
    "            df_cv_train[col + '_q'] = q_range.map(q_mean).astype('float')\n",
    "            df_valid[col + '_q'] = pd.cut(df_valid[col], bins=qt).map(q_mean).astype('float')\n",
    "        model.fit(df_cv_train[X_all], df_cv_train['target'])\n",
    "        score_valid.append((mean_squared_error(df_valid['target'], model.predict(df_valid[X_all]))) ** 0.5)\n",
    "        score_train.append((mean_squared_error(df_cv_train['target'], model.predict(df_cv_train[X_all]))) ** 0.5)\n",
    "        \n",
    "    return score_valid, score_train\n",
    "\n",
    "def print_result(model_name, result):\n",
    "    output = 'Valid: {:.5f}±{:.5f},  V.Train: {:.5f}±{:.5f}'.format( \n",
    "            np.mean(result[0]), np.std(result[0]),\n",
    "            np.mean(result[1]), np.std(result[1]),\n",
    "        )\n",
    "    print(output)\n",
    "    s_hist.append(pd.Series([model_name, output], index=['model name', 'result']))\n",
    "\n",
    "def select_model(model):\n",
    "    model.fit(df_train[X_all], df_train['target'])\n",
    "    prd = model.predict(df_test[X_all])\n",
    "    pd.DataFrame({\n",
    "        'id': df_test.index.values,\n",
    "        'target': prd\n",
    "    }).to_csv('answer6.csv', index = None)\n",
    "    return prd "
   ]
  },
  {
   "cell_type": "code",
   "execution_count": 10,
   "id": "adda3ac9",
   "metadata": {},
   "outputs": [
    {
     "name": "stdout",
     "output_type": "stream",
     "text": [
      "Valid: 0.86327±0.00296,  V.Train: 0.86302±0.00073\n"
     ]
    }
   ],
   "source": [
    "from sklearn.linear_model import LinearRegression\n",
    "# Baseline 모델을 만들어 봅니다.\n",
    "# handle_unknown을 ignore로 하여 등장하지 않은 수준에 대해 에러가 발생하지 않도록 합니다.\n",
    "# 이 경우 해당 변수의 가변수 모든 값은 0이 됩니다.\n",
    "# handle_unknown = 'ignore'와 drop='first'를 동시에 설정할 수 없습니다.\n",
    "# drop='first'를 생략하면 어떤 문제가 발생하는지 확인하기 위해 drop='first'를 제외합니다.\n",
    "ct = ColumnTransformer([\n",
    "    ('ohe', OneHotEncoder(handle_unknown='ignore'), cat_cols),\n",
    "    ('std', StandardScaler(), cont_cols)\n",
    "])\n",
    "\n",
    "reg_lr = make_pipeline(ct, LinearRegression())\n",
    "result = eval_model(reg_lr, cv)\n",
    "print_result('baseline', result)"
   ]
  },
  {
   "cell_type": "code",
   "execution_count": 11,
   "id": "62d60238",
   "metadata": {},
   "outputs": [
    {
     "data": {
      "text/plain": [
       "2034289092.3601308"
      ]
     },
     "execution_count": 11,
     "metadata": {},
     "output_type": "execute_result"
    }
   ],
   "source": [
    "prd = select_model(reg_lr)\n",
    "mean_squared_error(df_ans['target'], prd) ** 0.5"
   ]
  },
  {
   "cell_type": "code",
   "execution_count": 12,
   "id": "ba91c997",
   "metadata": {},
   "outputs": [
    {
     "data": {
      "text/plain": [
       "array([ 1.00266912e+11,  1.00266912e+11,  6.98527715e+09,  6.98527715e+09,\n",
       "       -6.48038263e+09, -6.48038263e+09, -1.16436168e+10, -1.16436168e+10,\n",
       "       -1.16436168e+10,  5.95397121e+10,  5.95397121e+10, -6.06544013e+09,\n",
       "       -6.06544013e+09, -6.06544013e+09, -6.06544013e+09, -5.42420197e+09,\n",
       "       -5.42420196e+09, -5.42420196e+09, -2.10341012e+10, -2.10341012e+10,\n",
       "       -2.10341012e+10, -2.10341012e+10,  1.25964904e+10,  1.25964904e+10,\n",
       "        1.25964904e+10,  1.25964904e+10,  1.25964904e+10,  5.60627956e+10,\n",
       "        5.60627956e+10,  5.60627956e+10,  5.60627956e+10,  5.60627956e+10,\n",
       "        5.60627956e+10,  5.60627956e+10,  5.60627956e+10,  5.60627956e+10,\n",
       "        5.60627956e+10,  5.60627956e+10,  5.60627956e+10, -5.82656860e-02,\n",
       "        3.45506668e-02,  2.14385986e-03, -5.55801392e-03, -5.42831421e-03,\n",
       "       -5.46264648e-02,  2.36129761e-02,  1.55334473e-02,  6.80923462e-02,\n",
       "        2.72941589e-02, -2.11791992e-02,  5.17196655e-02,  1.57318115e-02,\n",
       "       -5.81359863e-03])"
      ]
     },
     "execution_count": 12,
     "metadata": {},
     "output_type": "execute_result"
    }
   ],
   "source": [
    "reg_lr.fit(df_train[X_all], df_train['target'])\n",
    "reg_lr[1].coef_"
   ]
  },
  {
   "cell_type": "code",
   "execution_count": 13,
   "id": "faa667aa",
   "metadata": {},
   "outputs": [
    {
     "data": {
      "text/plain": [
       "cat0           {}\n",
       "cat1           {}\n",
       "cat2           {}\n",
       "cat3           {}\n",
       "cat4           {}\n",
       "cat5           {}\n",
       "cat6           {}\n",
       "cat7           {}\n",
       "cat8           {}\n",
       "cat9    {E, D, C}\n",
       "dtype: object"
      ]
     },
     "execution_count": 13,
     "metadata": {},
     "output_type": "execute_result"
    }
   ],
   "source": [
    "# 따라서 Linear과 같은 모수적 모델에서는 모델의 안정성을 위해, \n",
    "# drop='first'를 반드시 해주어야 합니다. \n",
    "# Test만 등장하는 범주값을 제거해 줍니다.\n",
    "\n",
    "# Test에만 등장하는 범주값을 봅니다.\n",
    "pd.concat([\n",
    "    df_train[cat_cols].apply(lambda x: set(x.unique())).rename('train_cat'),\n",
    "    df_test[cat_cols].apply(lambda x: set(x.unique())).rename('test_cat')\n",
    "], axis=1).apply(lambda x: x['test_cat'] - x['train_cat'], axis=1)"
   ]
  },
  {
   "cell_type": "code",
   "execution_count": 14,
   "id": "9661cd6f",
   "metadata": {},
   "outputs": [
    {
     "data": {
      "text/plain": [
       "0    F\n",
       "dtype: object"
      ]
     },
     "execution_count": 14,
     "metadata": {},
     "output_type": "execute_result"
    }
   ],
   "source": [
    "df_train['cat9'].mode()"
   ]
  },
  {
   "cell_type": "code",
   "execution_count": 15,
   "id": "b3cf8ee7",
   "metadata": {},
   "outputs": [],
   "source": [
    "# 미등장 수준을 가장 자주 등장하는 범주값으로 바꿉니다.\n",
    "df_test['cat9'] = df_test['cat9'].replace({'E': 'F', 'C': 'F', 'D': 'F'})"
   ]
  },
  {
   "cell_type": "code",
   "execution_count": 16,
   "id": "664e596f",
   "metadata": {},
   "outputs": [
    {
     "name": "stdout",
     "output_type": "stream",
     "text": [
      "Valid: 0.86327±0.00296,  V.Train: 0.86302±0.00073\n"
     ]
    }
   ],
   "source": [
    "# drop='first' 설정을 해줍니다.\n",
    "from sklearn.linear_model import LinearRegression\n",
    "ct = ColumnTransformer([\n",
    "    ('ohe', OneHotEncoder(drop='first'), ['cat{}'.format(i) for i in range(10)]),\n",
    "    ('pt', 'passthrough', ['cont{}'.format(i) for i in range(14)])\n",
    "])\n",
    "X_lr = ['cat{}'.format(i) for i in range(10)] + ['cont{}'.format(i) for i in range(14)]\n",
    "reg_lr = make_pipeline(ct, LinearRegression())\n",
    "scores_train, scores = eval_model(reg_lr, cv)\n",
    "print_result('baseline', result)"
   ]
  },
  {
   "cell_type": "code",
   "execution_count": 17,
   "id": "beed9b29",
   "metadata": {},
   "outputs": [
    {
     "data": {
      "text/plain": [
       "0.8657268588416211"
      ]
     },
     "execution_count": 17,
     "metadata": {},
     "output_type": "execute_result"
    }
   ],
   "source": [
    "# test에 등장하지 않은 변수값을 train에 등장하는 범주값으로 처리해주었고,\n",
    "# drop='first'를 통해 완전한 다중공선성이 발생하지 않도록 했습니다.\n",
    "# 문제가 해결됩니다.\n",
    "prd = select_model(reg_lr)\n",
    "mean_squared_error(df_ans['target'], prd) ** 0.5"
   ]
  },
  {
   "cell_type": "code",
   "execution_count": 18,
   "id": "1869c4c2",
   "metadata": {},
   "outputs": [
    {
     "data": {
      "text/plain": [
       "array([-0.14737833,  0.16983335,  0.24147158,  0.10693804,  0.03994362,\n",
       "        0.15713566,  0.03681214, -0.17486971,  0.03074087,  0.21519861,\n",
       "        0.36870383, -0.00597853, -0.05547379, -0.05870304, -0.00092302,\n",
       "        0.05854559,  0.07181603, -0.10018803,  0.03508515,  0.13365193,\n",
       "        0.1647826 ,  0.08022279, -0.00404722,  0.02865399,  0.09003857,\n",
       "        0.21092791,  0.09276305,  0.09655687,  0.07017521, -0.28413913,\n",
       "        0.14685393,  0.01069457, -0.02323074, -0.02707619, -0.23571329,\n",
       "        0.12262252,  0.07588697,  0.30830852,  0.13373422, -0.10509757,\n",
       "        0.22408617,  0.0712212 , -0.02577207])"
      ]
     },
     "execution_count": 18,
     "metadata": {},
     "output_type": "execute_result"
    }
   ],
   "source": [
    "# 회귀 계수를 출력해보면 지나치게 큰 계수가 나왔던 문제가 완전히 해결됩니다.\n",
    "reg_lr.fit(df_train[X_all], df_train['target'])\n",
    "reg_lr[1].coef_"
   ]
  },
  {
   "cell_type": "code",
   "execution_count": null,
   "id": "fe380987",
   "metadata": {},
   "outputs": [],
   "source": []
  }
 ],
 "metadata": {
  "kernelspec": {
   "display_name": "Python 3 (ipykernel)",
   "language": "python",
   "name": "python3"
  },
  "language_info": {
   "codemirror_mode": {
    "name": "ipython",
    "version": 3
   },
   "file_extension": ".py",
   "mimetype": "text/x-python",
   "name": "python",
   "nbconvert_exporter": "python",
   "pygments_lexer": "ipython3",
   "version": "3.7.4"
  }
 },
 "nbformat": 4,
 "nbformat_minor": 5
}
